{
 "cells": [
  {
   "cell_type": "code",
   "execution_count": 1,
   "id": "initial_id",
   "metadata": {
    "collapsed": true,
    "ExecuteTime": {
     "end_time": "2024-08-05T12:41:50.291770800Z",
     "start_time": "2024-08-05T12:41:48.626768500Z"
    }
   },
   "outputs": [],
   "source": [
    "import pandas as pd\n",
    "import statsmodels.api as sm\n",
    "from statsmodels.formula.api import ols"
   ]
  },
  {
   "cell_type": "code",
   "outputs": [
    {
     "name": "stdout",
     "output_type": "stream",
     "text": [
      "                             sum_sq          df             F  PR(>F)\n",
      "C(Broker)              3.748083e+17         1.0  1.278873e+05     0.0\n",
      "C(Requests)            3.977622e+19         7.0  1.938848e+06     0.0\n",
      "C(Broker):C(Requests)  8.576254e+17         7.0  4.180401e+04     0.0\n",
      "Residual               5.640911e+19  19247201.0           NaN     NaN\n"
     ]
    }
   ],
   "source": [
    "df = pd.read_csv('./combined_data_notifications.csv')\n",
    "\n",
    "# Siapkan model ANOVA dua arah\n",
    "model = ols('Latency ~ C(Broker) + C(Requests) + C(Broker):C(Requests)', data=df).fit()\n",
    "\n",
    "# Hitung tabel ANOVA\n",
    "anova_table = sm.stats.anova_lm(model, typ=2)\n",
    "\n",
    "# Tampilkan tabel ANOVA\n",
    "print(anova_table)"
   ],
   "metadata": {
    "collapsed": false,
    "ExecuteTime": {
     "end_time": "2024-08-05T12:49:04.732426300Z",
     "start_time": "2024-08-05T12:46:35.168292800Z"
    }
   },
   "id": "fd1d20ac8ae54404",
   "execution_count": 2
  },
  {
   "cell_type": "code",
   "outputs": [
    {
     "name": "stdout",
     "output_type": "stream",
     "text": [
      "            count          mean           std  min        25%        50%  \\\n",
      "Broker                                                                     \n",
      "Kafka   9637981.0  3.024825e+06  2.296659e+06  3.0  1066509.0  2304488.0   \n",
      "NATS    9609236.0  3.307741e+06  2.192831e+06  1.0  1493109.0  3243186.0   \n",
      "\n",
      "               75%        max  \n",
      "Broker                         \n",
      "Kafka   5013261.00  7625819.0  \n",
      "NATS    5019967.25  7625819.0  \n",
      "-----------------------END OF LINE\n",
      "               count          mean           std  min         25%        50%  \\\n",
      "Requests                                                                       \n",
      "3             4774.0  1.575462e+03  1.557869e+03  1.0      238.25      749.0   \n",
      "6            10723.0  4.201074e+03  2.646969e+03  2.0     1690.00     4317.0   \n",
      "30           57277.0  2.612294e+04  1.494082e+04  2.0    14495.00    25677.0   \n",
      "60          113553.0  3.542351e+04  3.843439e+04  2.0     4248.00    13660.0   \n",
      "300         575336.0  2.761664e+05  1.489500e+05  4.0   159907.00   271666.0   \n",
      "600        1142796.0  4.130186e+04  3.768637e+04  2.0     4496.00    36233.0   \n",
      "3000       5769236.0  1.979070e+06  1.089461e+06  3.0  1113224.00  1929572.0   \n",
      "6000      11573522.0  4.260474e+06  2.094646e+06  6.0  2634051.00  4427779.0   \n",
      "\n",
      "                 75%        max  \n",
      "Requests                         \n",
      "3            3090.00     4698.0  \n",
      "6            6455.50     9447.0  \n",
      "30          36447.00    59435.0  \n",
      "60          64642.00   126643.0  \n",
      "300        414499.25   529107.0  \n",
      "600         61069.00   143292.0  \n",
      "3000      2768919.00  4188558.0  \n",
      "6000      6061888.00  7625819.0  \n",
      "-----------------------END OF LINE\n",
      "            Latency      Requests\n",
      "count  1.924722e+07  1.924722e+07\n",
      "mean   3.166072e+06  4.552125e+03\n",
      "std    2.249874e+06  1.909729e+03\n",
      "min    1.000000e+00  3.000000e+00\n",
      "25%    1.262219e+06  3.000000e+03\n",
      "50%    2.916944e+06  6.000000e+03\n",
      "75%    5.016277e+06  6.000000e+03\n",
      "max    7.625819e+06  6.000000e+03\n"
     ]
    }
   ],
   "source": [
    "print(df.groupby('Broker')['Latency'].describe())\n",
    "print('-----------------------END OF LINE')\n",
    "print(df.groupby('Requests')['Latency'].describe())\n",
    "print('-----------------------END OF LINE')\n",
    "print(df.describe())"
   ],
   "metadata": {
    "collapsed": false,
    "ExecuteTime": {
     "end_time": "2024-08-05T14:06:05.966095900Z",
     "start_time": "2024-08-05T14:05:58.737019900Z"
    }
   },
   "id": "29f286d1eb846d7e",
   "execution_count": 5
  },
  {
   "cell_type": "code",
   "outputs": [
    {
     "name": "stdout",
     "output_type": "stream",
     "text": [
      "Shapiro-Wilk test: ShapiroResult(statistic=np.float64(0.9429475444401435), pvalue=np.float64(2.365092960700824e-140))\n"
     ]
    },
    {
     "name": "stderr",
     "output_type": "stream",
     "text": [
      "D:\\..SKRIPSI\\CALCULATION\\e2e-latency\\.venv\\Lib\\site-packages\\scipy\\stats\\_axis_nan_policy.py:573: UserWarning: scipy.stats.shapiro: For N > 5000, computed p-value may not be accurate. Current N is 19247217.\n",
      "  res = hypotest_fun_out(*samples, **kwds)\n"
     ]
    }
   ],
   "source": [
    "from scipy.stats import shapiro\n",
    "\n",
    "shapiro_test = shapiro(df['Latency'])\n",
    "print('Shapiro-Wilk test:', shapiro_test)"
   ],
   "metadata": {
    "collapsed": false,
    "ExecuteTime": {
     "end_time": "2024-08-05T14:53:37.381837100Z",
     "start_time": "2024-08-05T14:53:36.595155600Z"
    }
   },
   "id": "c7804d579d6db3aa",
   "execution_count": 7
  },
  {
   "cell_type": "code",
   "outputs": [
    {
     "name": "stderr",
     "output_type": "stream",
     "text": [
      "D:\\..SKRIPSI\\CALCULATION\\e2e-latency\\.venv\\Lib\\site-packages\\scipy\\stats\\_axis_nan_policy.py:573: UserWarning: scipy.stats.shapiro: For N > 5000, computed p-value may not be accurate. Current N is 19247217.\n",
      "  res = hypotest_fun_out(*samples, **kwds)\n"
     ]
    },
    {
     "name": "stdout",
     "output_type": "stream",
     "text": [
      "Shapiro-Wilk test (Box-Cox-transformed): ShapiroResult(statistic=np.float64(0.9563163590733877), pvalue=np.float64(2.1189354787363743e-132))\n",
      "Shapiro-Wilk test  (Box-Cox-transformed): ShapiroResult(statistic=np.float64(0.9578975618048526), pvalue=np.float64(2.545203109006421e-131))\n",
      "Shapiro-Wilk test  (Box-Cox-transformed): ShapiroResult(statistic=np.float64(0.7442125074048933), pvalue=np.float64(2.0543042958480136e-189))\n"
     ]
    }
   ],
   "source": [
    "from scipy.stats import boxcox, shapiro\n",
    "import numpy as np\n",
    "    \n",
    "df = pd.read_csv('./combined_data_notifications.csv')\n",
    "\n",
    "# Terapkan transformasi Box-Cox\n",
    "df['Latency_boxcox'] = np.sqrt(df['Latency'])\n",
    "df['Latency_sqrt'], _ = boxcox(df['Latency'] + 1)  # Menambahkan 1 untuk menghindari masalah dengan nilai 0\n",
    "df['Latency_log'] = np.log(df['Latency'] + 1)\n",
    "\n",
    "# Lakukan uji Shapiro-Wilk lagi pada data yang telah ditransformasi\n",
    "shapiro_test_boxcox = shapiro(df['Latency_boxcox'])\n",
    "print('Shapiro-Wilk test (Box-Cox-transformed):', shapiro_test_boxcox)\n",
    "\n",
    "shapiro_test_sqrt = shapiro(df['Latency_sqrt'])\n",
    "print('Shapiro-Wilk test  (Box-Cox-transformed):', shapiro_test_sqrt)\n",
    "\n",
    "shapiro_test_log = shapiro(df['Latency_log'])\n",
    "print('Shapiro-Wilk test  (Box-Cox-transformed):', shapiro_test_log)\n",
    "    \n",
    "# # Siapkan model ANOVA dua arah\n",
    "# model = ols('Latency_boxcox ~ C(Broker) + C(Requests) + C(Broker):C(Requests)', data=df).fit()\n",
    "# \n",
    "# # Hitung tabel ANOVA\n",
    "# anova_table = sm.stats.anova_lm(model, typ=2)\n",
    "# \n",
    "# # Tampilkan tabel ANOVA\n",
    "# print(anova_table)"
   ],
   "metadata": {
    "collapsed": false,
    "ExecuteTime": {
     "end_time": "2024-08-07T04:01:53.596260800Z",
     "start_time": "2024-08-07T03:59:38.113459600Z"
    }
   },
   "id": "74469ee53c37c4cc",
   "execution_count": 17
  },
  {
   "cell_type": "code",
   "outputs": [
    {
     "name": "stdout",
     "output_type": "stream",
     "text": [
      "          Latency Broker  Requests\n",
      "0              45  Kafka         3\n",
      "1             148  Kafka         3\n",
      "2             155  Kafka         3\n",
      "3             162  Kafka         3\n",
      "4             165  Kafka         3\n",
      "...           ...    ...       ...\n",
      "19247212  2807348   NATS      6000\n",
      "19247213  2807266   NATS      6000\n",
      "19247214  2807172   NATS      6000\n",
      "19247215  2807098   NATS      6000\n",
      "19247216  2807032   NATS      6000\n",
      "\n",
      "[19247217 rows x 3 columns]\n"
     ]
    },
    {
     "ename": "MemoryError",
     "evalue": "Unable to allocate 587. MiB for an array with shape (2, 19247217) and data type complex128",
     "output_type": "error",
     "traceback": [
      "\u001B[1;31m---------------------------------------------------------------------------\u001B[0m",
      "\u001B[1;31mMemoryError\u001B[0m                               Traceback (most recent call last)",
      "Cell \u001B[1;32mIn[14], line 13\u001B[0m\n\u001B[0;32m     10\u001B[0m \u001B[38;5;28mprint\u001B[39m(df)\n\u001B[0;32m     12\u001B[0m \u001B[38;5;66;03m# Perform Box-Cox transformation\u001B[39;00m\n\u001B[1;32m---> 13\u001B[0m df[\u001B[38;5;124m'\u001B[39m\u001B[38;5;124mLatency_boxcox\u001B[39m\u001B[38;5;124m'\u001B[39m], _ \u001B[38;5;241m=\u001B[39m \u001B[43mboxcox\u001B[49m\u001B[43m(\u001B[49m\u001B[43mdf\u001B[49m\u001B[43m[\u001B[49m\u001B[38;5;124;43m'\u001B[39;49m\u001B[38;5;124;43mLatency\u001B[39;49m\u001B[38;5;124;43m'\u001B[39;49m\u001B[43m]\u001B[49m\u001B[43m \u001B[49m\u001B[38;5;241;43m+\u001B[39;49m\u001B[43m \u001B[49m\u001B[38;5;241;43m1\u001B[39;49m\u001B[43m)\u001B[49m \u001B[38;5;66;03m# Adding 1 to avoid log(0)\u001B[39;00m\n\u001B[0;32m     15\u001B[0m \u001B[38;5;66;03m# Check for infinite values after transformation\u001B[39;00m\n\u001B[0;32m     16\u001B[0m df\u001B[38;5;241m.\u001B[39mreplace([np\u001B[38;5;241m.\u001B[39minf, \u001B[38;5;241m-\u001B[39mnp\u001B[38;5;241m.\u001B[39minf], np\u001B[38;5;241m.\u001B[39mnan, inplace\u001B[38;5;241m=\u001B[39m\u001B[38;5;28;01mTrue\u001B[39;00m)\n",
      "File \u001B[1;32mD:\\..SKRIPSI\\CALCULATION\\e2e-latency\\.venv\\Lib\\site-packages\\scipy\\stats\\_morestats.py:1133\u001B[0m, in \u001B[0;36mboxcox\u001B[1;34m(x, lmbda, alpha, optimizer)\u001B[0m\n\u001B[0;32m   1130\u001B[0m     \u001B[38;5;28;01mraise\u001B[39;00m \u001B[38;5;167;01mValueError\u001B[39;00m(\u001B[38;5;124m\"\u001B[39m\u001B[38;5;124mData must be positive.\u001B[39m\u001B[38;5;124m\"\u001B[39m)\n\u001B[0;32m   1132\u001B[0m \u001B[38;5;66;03m# If lmbda=None, find the lmbda that maximizes the log-likelihood function.\u001B[39;00m\n\u001B[1;32m-> 1133\u001B[0m lmax \u001B[38;5;241m=\u001B[39m \u001B[43mboxcox_normmax\u001B[49m\u001B[43m(\u001B[49m\u001B[43mx\u001B[49m\u001B[43m,\u001B[49m\u001B[43m \u001B[49m\u001B[43mmethod\u001B[49m\u001B[38;5;241;43m=\u001B[39;49m\u001B[38;5;124;43m'\u001B[39;49m\u001B[38;5;124;43mmle\u001B[39;49m\u001B[38;5;124;43m'\u001B[39;49m\u001B[43m,\u001B[49m\u001B[43m \u001B[49m\u001B[43moptimizer\u001B[49m\u001B[38;5;241;43m=\u001B[39;49m\u001B[43moptimizer\u001B[49m\u001B[43m)\u001B[49m\n\u001B[0;32m   1134\u001B[0m y \u001B[38;5;241m=\u001B[39m boxcox(x, lmax)\n\u001B[0;32m   1136\u001B[0m \u001B[38;5;28;01mif\u001B[39;00m alpha \u001B[38;5;129;01mis\u001B[39;00m \u001B[38;5;28;01mNone\u001B[39;00m:\n",
      "File \u001B[1;32mD:\\..SKRIPSI\\CALCULATION\\e2e-latency\\.venv\\Lib\\site-packages\\scipy\\stats\\_morestats.py:1343\u001B[0m, in \u001B[0;36mboxcox_normmax\u001B[1;34m(x, brack, method, optimizer, ymax)\u001B[0m\n\u001B[0;32m   1339\u001B[0m     \u001B[38;5;28;01mraise\u001B[39;00m \u001B[38;5;167;01mValueError\u001B[39;00m(\u001B[38;5;124mf\u001B[39m\u001B[38;5;124m\"\u001B[39m\u001B[38;5;124mMethod \u001B[39m\u001B[38;5;132;01m{\u001B[39;00mmethod\u001B[38;5;132;01m}\u001B[39;00m\u001B[38;5;124m not recognized.\u001B[39m\u001B[38;5;124m\"\u001B[39m)\n\u001B[0;32m   1341\u001B[0m optimfunc \u001B[38;5;241m=\u001B[39m methods[method]\n\u001B[1;32m-> 1343\u001B[0m res \u001B[38;5;241m=\u001B[39m \u001B[43moptimfunc\u001B[49m\u001B[43m(\u001B[49m\u001B[43mx\u001B[49m\u001B[43m)\u001B[49m\n\u001B[0;32m   1345\u001B[0m \u001B[38;5;28;01mif\u001B[39;00m res \u001B[38;5;129;01mis\u001B[39;00m \u001B[38;5;28;01mNone\u001B[39;00m:\n\u001B[0;32m   1346\u001B[0m     message \u001B[38;5;241m=\u001B[39m (\u001B[38;5;124m\"\u001B[39m\u001B[38;5;124mThe `optimizer` argument of `boxcox_normmax` must return \u001B[39m\u001B[38;5;124m\"\u001B[39m\n\u001B[0;32m   1347\u001B[0m                \u001B[38;5;124m\"\u001B[39m\u001B[38;5;124man object containing the optimal `lmbda` in attribute `x`.\u001B[39m\u001B[38;5;124m\"\u001B[39m)\n",
      "File \u001B[1;32mD:\\..SKRIPSI\\CALCULATION\\e2e-latency\\.venv\\Lib\\site-packages\\scipy\\stats\\_morestats.py:1327\u001B[0m, in \u001B[0;36mboxcox_normmax.<locals>._mle\u001B[1;34m(x)\u001B[0m\n\u001B[0;32m   1323\u001B[0m \u001B[38;5;28;01mdef\u001B[39;00m \u001B[38;5;21m_eval_mle\u001B[39m(lmb, data):\n\u001B[0;32m   1324\u001B[0m     \u001B[38;5;66;03m# function to minimize\u001B[39;00m\n\u001B[0;32m   1325\u001B[0m     \u001B[38;5;28;01mreturn\u001B[39;00m \u001B[38;5;241m-\u001B[39mboxcox_llf(lmb, data)\n\u001B[1;32m-> 1327\u001B[0m \u001B[38;5;28;01mreturn\u001B[39;00m \u001B[43m_optimizer\u001B[49m\u001B[43m(\u001B[49m\u001B[43m_eval_mle\u001B[49m\u001B[43m,\u001B[49m\u001B[43m \u001B[49m\u001B[43margs\u001B[49m\u001B[38;5;241;43m=\u001B[39;49m\u001B[43m(\u001B[49m\u001B[43mx\u001B[49m\u001B[43m,\u001B[49m\u001B[43m)\u001B[49m\u001B[43m)\u001B[49m\n",
      "File \u001B[1;32mD:\\..SKRIPSI\\CALCULATION\\e2e-latency\\.venv\\Lib\\site-packages\\scipy\\stats\\_morestats.py:1289\u001B[0m, in \u001B[0;36mboxcox_normmax.<locals>._optimizer\u001B[1;34m(func, args)\u001B[0m\n\u001B[0;32m   1288\u001B[0m \u001B[38;5;28;01mdef\u001B[39;00m \u001B[38;5;21m_optimizer\u001B[39m(func, args):\n\u001B[1;32m-> 1289\u001B[0m     \u001B[38;5;28;01mreturn\u001B[39;00m \u001B[43moptimize\u001B[49m\u001B[38;5;241;43m.\u001B[39;49m\u001B[43mbrent\u001B[49m\u001B[43m(\u001B[49m\u001B[43mfunc\u001B[49m\u001B[43m,\u001B[49m\u001B[43m \u001B[49m\u001B[43margs\u001B[49m\u001B[38;5;241;43m=\u001B[39;49m\u001B[43margs\u001B[49m\u001B[43m,\u001B[49m\u001B[43m \u001B[49m\u001B[43mbrack\u001B[49m\u001B[38;5;241;43m=\u001B[39;49m\u001B[43mbrack\u001B[49m\u001B[43m)\u001B[49m\n",
      "File \u001B[1;32mD:\\..SKRIPSI\\CALCULATION\\e2e-latency\\.venv\\Lib\\site-packages\\scipy\\optimize\\_optimize.py:2625\u001B[0m, in \u001B[0;36mbrent\u001B[1;34m(func, args, brack, tol, full_output, maxiter)\u001B[0m\n\u001B[0;32m   2553\u001B[0m \u001B[38;5;250m\u001B[39m\u001B[38;5;124;03m\"\"\"\u001B[39;00m\n\u001B[0;32m   2554\u001B[0m \u001B[38;5;124;03mGiven a function of one variable and a possible bracket, return\u001B[39;00m\n\u001B[0;32m   2555\u001B[0m \u001B[38;5;124;03ma local minimizer of the function isolated to a fractional precision\u001B[39;00m\n\u001B[1;32m   (...)\u001B[0m\n\u001B[0;32m   2621\u001B[0m \n\u001B[0;32m   2622\u001B[0m \u001B[38;5;124;03m\"\"\"\u001B[39;00m\n\u001B[0;32m   2623\u001B[0m options \u001B[38;5;241m=\u001B[39m {\u001B[38;5;124m'\u001B[39m\u001B[38;5;124mxtol\u001B[39m\u001B[38;5;124m'\u001B[39m: tol,\n\u001B[0;32m   2624\u001B[0m            \u001B[38;5;124m'\u001B[39m\u001B[38;5;124mmaxiter\u001B[39m\u001B[38;5;124m'\u001B[39m: maxiter}\n\u001B[1;32m-> 2625\u001B[0m res \u001B[38;5;241m=\u001B[39m \u001B[43m_minimize_scalar_brent\u001B[49m\u001B[43m(\u001B[49m\u001B[43mfunc\u001B[49m\u001B[43m,\u001B[49m\u001B[43m \u001B[49m\u001B[43mbrack\u001B[49m\u001B[43m,\u001B[49m\u001B[43m \u001B[49m\u001B[43margs\u001B[49m\u001B[43m,\u001B[49m\u001B[43m \u001B[49m\u001B[38;5;241;43m*\u001B[39;49m\u001B[38;5;241;43m*\u001B[39;49m\u001B[43moptions\u001B[49m\u001B[43m)\u001B[49m\n\u001B[0;32m   2626\u001B[0m \u001B[38;5;28;01mif\u001B[39;00m full_output:\n\u001B[0;32m   2627\u001B[0m     \u001B[38;5;28;01mreturn\u001B[39;00m res[\u001B[38;5;124m'\u001B[39m\u001B[38;5;124mx\u001B[39m\u001B[38;5;124m'\u001B[39m], res[\u001B[38;5;124m'\u001B[39m\u001B[38;5;124mfun\u001B[39m\u001B[38;5;124m'\u001B[39m], res[\u001B[38;5;124m'\u001B[39m\u001B[38;5;124mnit\u001B[39m\u001B[38;5;124m'\u001B[39m], res[\u001B[38;5;124m'\u001B[39m\u001B[38;5;124mnfev\u001B[39m\u001B[38;5;124m'\u001B[39m]\n",
      "File \u001B[1;32mD:\\..SKRIPSI\\CALCULATION\\e2e-latency\\.venv\\Lib\\site-packages\\scipy\\optimize\\_optimize.py:2662\u001B[0m, in \u001B[0;36m_minimize_scalar_brent\u001B[1;34m(func, brack, args, xtol, maxiter, disp, **unknown_options)\u001B[0m\n\u001B[0;32m   2659\u001B[0m brent \u001B[38;5;241m=\u001B[39m Brent(func\u001B[38;5;241m=\u001B[39mfunc, args\u001B[38;5;241m=\u001B[39margs, tol\u001B[38;5;241m=\u001B[39mtol,\n\u001B[0;32m   2660\u001B[0m               full_output\u001B[38;5;241m=\u001B[39m\u001B[38;5;28;01mTrue\u001B[39;00m, maxiter\u001B[38;5;241m=\u001B[39mmaxiter, disp\u001B[38;5;241m=\u001B[39mdisp)\n\u001B[0;32m   2661\u001B[0m brent\u001B[38;5;241m.\u001B[39mset_bracket(brack)\n\u001B[1;32m-> 2662\u001B[0m \u001B[43mbrent\u001B[49m\u001B[38;5;241;43m.\u001B[39;49m\u001B[43moptimize\u001B[49m\u001B[43m(\u001B[49m\u001B[43m)\u001B[49m\n\u001B[0;32m   2663\u001B[0m x, fval, nit, nfev \u001B[38;5;241m=\u001B[39m brent\u001B[38;5;241m.\u001B[39mget_result(full_output\u001B[38;5;241m=\u001B[39m\u001B[38;5;28;01mTrue\u001B[39;00m)\n\u001B[0;32m   2665\u001B[0m success \u001B[38;5;241m=\u001B[39m nit \u001B[38;5;241m<\u001B[39m maxiter \u001B[38;5;129;01mand\u001B[39;00m \u001B[38;5;129;01mnot\u001B[39;00m (np\u001B[38;5;241m.\u001B[39misnan(x) \u001B[38;5;129;01mor\u001B[39;00m np\u001B[38;5;241m.\u001B[39misnan(fval))\n",
      "File \u001B[1;32mD:\\..SKRIPSI\\CALCULATION\\e2e-latency\\.venv\\Lib\\site-packages\\scipy\\optimize\\_optimize.py:2432\u001B[0m, in \u001B[0;36mBrent.optimize\u001B[1;34m(self)\u001B[0m\n\u001B[0;32m   2429\u001B[0m \u001B[38;5;28;01mdef\u001B[39;00m \u001B[38;5;21moptimize\u001B[39m(\u001B[38;5;28mself\u001B[39m):\n\u001B[0;32m   2430\u001B[0m     \u001B[38;5;66;03m# set up for optimization\u001B[39;00m\n\u001B[0;32m   2431\u001B[0m     func \u001B[38;5;241m=\u001B[39m \u001B[38;5;28mself\u001B[39m\u001B[38;5;241m.\u001B[39mfunc\n\u001B[1;32m-> 2432\u001B[0m     xa, xb, xc, fa, fb, fc, funcalls \u001B[38;5;241m=\u001B[39m \u001B[38;5;28;43mself\u001B[39;49m\u001B[38;5;241;43m.\u001B[39;49m\u001B[43mget_bracket_info\u001B[49m\u001B[43m(\u001B[49m\u001B[43m)\u001B[49m\n\u001B[0;32m   2433\u001B[0m     _mintol \u001B[38;5;241m=\u001B[39m \u001B[38;5;28mself\u001B[39m\u001B[38;5;241m.\u001B[39m_mintol\n\u001B[0;32m   2434\u001B[0m     _cg \u001B[38;5;241m=\u001B[39m \u001B[38;5;28mself\u001B[39m\u001B[38;5;241m.\u001B[39m_cg\n",
      "File \u001B[1;32mD:\\..SKRIPSI\\CALCULATION\\e2e-latency\\.venv\\Lib\\site-packages\\scipy\\optimize\\_optimize.py:2401\u001B[0m, in \u001B[0;36mBrent.get_bracket_info\u001B[1;34m(self)\u001B[0m\n\u001B[0;32m   2399\u001B[0m     xa, xb, xc, fa, fb, fc, funcalls \u001B[38;5;241m=\u001B[39m bracket(func, args\u001B[38;5;241m=\u001B[39margs)\n\u001B[0;32m   2400\u001B[0m \u001B[38;5;28;01melif\u001B[39;00m \u001B[38;5;28mlen\u001B[39m(brack) \u001B[38;5;241m==\u001B[39m \u001B[38;5;241m2\u001B[39m:\n\u001B[1;32m-> 2401\u001B[0m     xa, xb, xc, fa, fb, fc, funcalls \u001B[38;5;241m=\u001B[39m \u001B[43mbracket\u001B[49m\u001B[43m(\u001B[49m\u001B[43mfunc\u001B[49m\u001B[43m,\u001B[49m\u001B[43m \u001B[49m\u001B[43mxa\u001B[49m\u001B[38;5;241;43m=\u001B[39;49m\u001B[43mbrack\u001B[49m\u001B[43m[\u001B[49m\u001B[38;5;241;43m0\u001B[39;49m\u001B[43m]\u001B[49m\u001B[43m,\u001B[49m\n\u001B[0;32m   2402\u001B[0m \u001B[43m                                               \u001B[49m\u001B[43mxb\u001B[49m\u001B[38;5;241;43m=\u001B[39;49m\u001B[43mbrack\u001B[49m\u001B[43m[\u001B[49m\u001B[38;5;241;43m1\u001B[39;49m\u001B[43m]\u001B[49m\u001B[43m,\u001B[49m\u001B[43m \u001B[49m\u001B[43margs\u001B[49m\u001B[38;5;241;43m=\u001B[39;49m\u001B[43margs\u001B[49m\u001B[43m)\u001B[49m\n\u001B[0;32m   2403\u001B[0m \u001B[38;5;28;01melif\u001B[39;00m \u001B[38;5;28mlen\u001B[39m(brack) \u001B[38;5;241m==\u001B[39m \u001B[38;5;241m3\u001B[39m:\n\u001B[0;32m   2404\u001B[0m     xa, xb, xc \u001B[38;5;241m=\u001B[39m brack\n",
      "File \u001B[1;32mD:\\..SKRIPSI\\CALCULATION\\e2e-latency\\.venv\\Lib\\site-packages\\scipy\\optimize\\_optimize.py:2955\u001B[0m, in \u001B[0;36mbracket\u001B[1;34m(func, xa, xb, args, grow_limit, maxiter)\u001B[0m\n\u001B[0;32m   2953\u001B[0m \u001B[38;5;66;03m# convert to numpy floats if not already\u001B[39;00m\n\u001B[0;32m   2954\u001B[0m xa, xb \u001B[38;5;241m=\u001B[39m np\u001B[38;5;241m.\u001B[39masarray([xa, xb])\n\u001B[1;32m-> 2955\u001B[0m fa \u001B[38;5;241m=\u001B[39m \u001B[43mfunc\u001B[49m\u001B[43m(\u001B[49m\u001B[38;5;241;43m*\u001B[39;49m\u001B[43m(\u001B[49m\u001B[43mxa\u001B[49m\u001B[43m,\u001B[49m\u001B[43m)\u001B[49m\u001B[43m \u001B[49m\u001B[38;5;241;43m+\u001B[39;49m\u001B[43m \u001B[49m\u001B[43margs\u001B[49m\u001B[43m)\u001B[49m\n\u001B[0;32m   2956\u001B[0m fb \u001B[38;5;241m=\u001B[39m func(\u001B[38;5;241m*\u001B[39m(xb,) \u001B[38;5;241m+\u001B[39m args)\n\u001B[0;32m   2957\u001B[0m \u001B[38;5;28;01mif\u001B[39;00m (fa \u001B[38;5;241m<\u001B[39m fb):                      \u001B[38;5;66;03m# Switch so fa > fb\u001B[39;00m\n",
      "File \u001B[1;32mD:\\..SKRIPSI\\CALCULATION\\e2e-latency\\.venv\\Lib\\site-packages\\scipy\\stats\\_morestats.py:1325\u001B[0m, in \u001B[0;36mboxcox_normmax.<locals>._mle.<locals>._eval_mle\u001B[1;34m(lmb, data)\u001B[0m\n\u001B[0;32m   1323\u001B[0m \u001B[38;5;28;01mdef\u001B[39;00m \u001B[38;5;21m_eval_mle\u001B[39m(lmb, data):\n\u001B[0;32m   1324\u001B[0m     \u001B[38;5;66;03m# function to minimize\u001B[39;00m\n\u001B[1;32m-> 1325\u001B[0m     \u001B[38;5;28;01mreturn\u001B[39;00m \u001B[38;5;241m-\u001B[39m\u001B[43mboxcox_llf\u001B[49m\u001B[43m(\u001B[49m\u001B[43mlmb\u001B[49m\u001B[43m,\u001B[49m\u001B[43m \u001B[49m\u001B[43mdata\u001B[49m\u001B[43m)\u001B[49m\n",
      "File \u001B[1;32mD:\\..SKRIPSI\\CALCULATION\\e2e-latency\\.venv\\Lib\\site-packages\\scipy\\stats\\_morestats.py:961\u001B[0m, in \u001B[0;36mboxcox_llf\u001B[1;34m(lmb, data)\u001B[0m\n\u001B[0;32m    955\u001B[0m \u001B[38;5;28;01melse\u001B[39;00m:\n\u001B[0;32m    956\u001B[0m     \u001B[38;5;66;03m# Transform without the constant offset 1/lmb.  The offset does\u001B[39;00m\n\u001B[0;32m    957\u001B[0m     \u001B[38;5;66;03m# not affect the variance, and the subtraction of the offset can\u001B[39;00m\n\u001B[0;32m    958\u001B[0m     \u001B[38;5;66;03m# lead to loss of precision.\u001B[39;00m\n\u001B[0;32m    959\u001B[0m     \u001B[38;5;66;03m# Division by lmb can be factored out to enhance numerical stability.\u001B[39;00m\n\u001B[0;32m    960\u001B[0m     logx \u001B[38;5;241m=\u001B[39m lmb \u001B[38;5;241m*\u001B[39m logdata\n\u001B[1;32m--> 961\u001B[0m     logvar \u001B[38;5;241m=\u001B[39m \u001B[43m_log_var\u001B[49m\u001B[43m(\u001B[49m\u001B[43mlogx\u001B[49m\u001B[43m)\u001B[49m \u001B[38;5;241m-\u001B[39m \u001B[38;5;241m2\u001B[39m \u001B[38;5;241m*\u001B[39m np\u001B[38;5;241m.\u001B[39mlog(\u001B[38;5;28mabs\u001B[39m(lmb))\n\u001B[0;32m    963\u001B[0m \u001B[38;5;28;01mreturn\u001B[39;00m (lmb \u001B[38;5;241m-\u001B[39m \u001B[38;5;241m1\u001B[39m) \u001B[38;5;241m*\u001B[39m np\u001B[38;5;241m.\u001B[39msum(logdata, axis\u001B[38;5;241m=\u001B[39m\u001B[38;5;241m0\u001B[39m) \u001B[38;5;241m-\u001B[39m N\u001B[38;5;241m/\u001B[39m\u001B[38;5;241m2\u001B[39m \u001B[38;5;241m*\u001B[39m logvar\n",
      "File \u001B[1;32mD:\\..SKRIPSI\\CALCULATION\\e2e-latency\\.venv\\Lib\\site-packages\\scipy\\stats\\_morestats.py:861\u001B[0m, in \u001B[0;36m_log_var\u001B[1;34m(logx)\u001B[0m\n\u001B[0;32m    859\u001B[0m logmean \u001B[38;5;241m=\u001B[39m _log_mean(logx)\n\u001B[0;32m    860\u001B[0m pij \u001B[38;5;241m=\u001B[39m np\u001B[38;5;241m.\u001B[39mfull_like(logx, np\u001B[38;5;241m.\u001B[39mpi \u001B[38;5;241m*\u001B[39m \u001B[38;5;241m1\u001B[39mj, dtype\u001B[38;5;241m=\u001B[39mnp\u001B[38;5;241m.\u001B[39mcomplex128)\n\u001B[1;32m--> 861\u001B[0m logxmu \u001B[38;5;241m=\u001B[39m \u001B[43mspecial\u001B[49m\u001B[38;5;241;43m.\u001B[39;49m\u001B[43mlogsumexp\u001B[49m\u001B[43m(\u001B[49m\u001B[43m[\u001B[49m\u001B[43mlogx\u001B[49m\u001B[43m,\u001B[49m\u001B[43m \u001B[49m\u001B[43mlogmean\u001B[49m\u001B[43m \u001B[49m\u001B[38;5;241;43m+\u001B[39;49m\u001B[43m \u001B[49m\u001B[43mpij\u001B[49m\u001B[43m]\u001B[49m\u001B[43m,\u001B[49m\u001B[43m \u001B[49m\u001B[43maxis\u001B[49m\u001B[38;5;241;43m=\u001B[39;49m\u001B[38;5;241;43m0\u001B[39;49m\u001B[43m)\u001B[49m\n\u001B[0;32m    862\u001B[0m \u001B[38;5;28;01mreturn\u001B[39;00m np\u001B[38;5;241m.\u001B[39mreal(special\u001B[38;5;241m.\u001B[39mlogsumexp(\u001B[38;5;241m2\u001B[39m \u001B[38;5;241m*\u001B[39m logxmu, axis\u001B[38;5;241m=\u001B[39m\u001B[38;5;241m0\u001B[39m)) \u001B[38;5;241m-\u001B[39m np\u001B[38;5;241m.\u001B[39mlog(\u001B[38;5;28mlen\u001B[39m(logx))\n",
      "File \u001B[1;32mD:\\..SKRIPSI\\CALCULATION\\e2e-latency\\.venv\\Lib\\site-packages\\scipy\\special\\_logsumexp.py:117\u001B[0m, in \u001B[0;36mlogsumexp\u001B[1;34m(a, axis, b, keepdims, return_sign)\u001B[0m\n\u001B[0;32m    115\u001B[0m     tmp \u001B[38;5;241m=\u001B[39m b \u001B[38;5;241m*\u001B[39m np\u001B[38;5;241m.\u001B[39mexp(a \u001B[38;5;241m-\u001B[39m a_max)\n\u001B[0;32m    116\u001B[0m \u001B[38;5;28;01melse\u001B[39;00m:\n\u001B[1;32m--> 117\u001B[0m     tmp \u001B[38;5;241m=\u001B[39m np\u001B[38;5;241m.\u001B[39mexp(\u001B[43ma\u001B[49m\u001B[43m \u001B[49m\u001B[38;5;241;43m-\u001B[39;49m\u001B[43m \u001B[49m\u001B[43ma_max\u001B[49m)\n\u001B[0;32m    119\u001B[0m \u001B[38;5;66;03m# suppress warnings about log of zero\u001B[39;00m\n\u001B[0;32m    120\u001B[0m \u001B[38;5;28;01mwith\u001B[39;00m np\u001B[38;5;241m.\u001B[39merrstate(divide\u001B[38;5;241m=\u001B[39m\u001B[38;5;124m'\u001B[39m\u001B[38;5;124mignore\u001B[39m\u001B[38;5;124m'\u001B[39m):\n",
      "\u001B[1;31mMemoryError\u001B[0m: Unable to allocate 587. MiB for an array with shape (2, 19247217) and data type complex128"
     ]
    }
   ],
   "source": [
    "import pandas as pd\n",
    "import numpy as np\n",
    "from scipy import stats\n",
    "import statsmodels.api as sm\n",
    "from statsmodels.formula.api import ols\n",
    "\n",
    "df = pd.read_csv('./combined_data_notifications.csv')\n",
    "\n",
    "# Check initial data\n",
    "print(df)\n",
    "\n",
    "# Perform Box-Cox transformation\n",
    "df['Latency_boxcox'], _ = boxcox(df['Latency'] + 1) # Adding 1 to avoid log(0)\n",
    "\n",
    "# Verify the data is now clean\n",
    "print(df.describe())\n",
    "\n",
    "# Prepare the ANOVA model with Box-Cox transformed data\n",
    "model = ols('Latency_boxcox ~ C(Broker) + C(Requests) + C(Broker):C(Requests)', data=df).fit()\n",
    "\n",
    "# Perform ANOVA\n",
    "anova_table = sm.stats.anova_lm(model, typ=2)\n",
    "\n",
    "# Display ANOVA results\n",
    "print(anova_table)"
   ],
   "metadata": {
    "collapsed": false,
    "ExecuteTime": {
     "end_time": "2024-08-07T02:17:00.304262600Z",
     "start_time": "2024-08-07T02:16:52.142581100Z"
    }
   },
   "id": "91df7f3980532622",
   "execution_count": 14
  }
 ],
 "metadata": {
  "kernelspec": {
   "display_name": "Python 3",
   "language": "python",
   "name": "python3"
  },
  "language_info": {
   "codemirror_mode": {
    "name": "ipython",
    "version": 2
   },
   "file_extension": ".py",
   "mimetype": "text/x-python",
   "name": "python",
   "nbconvert_exporter": "python",
   "pygments_lexer": "ipython2",
   "version": "2.7.6"
  }
 },
 "nbformat": 4,
 "nbformat_minor": 5
}
