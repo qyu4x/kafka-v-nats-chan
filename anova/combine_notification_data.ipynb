{
 "cells": [
  {
   "cell_type": "code",
   "execution_count": 4,
   "id": "initial_id",
   "metadata": {
    "collapsed": true,
    "ExecuteTime": {
     "end_time": "2024-08-05T12:02:58.863786700Z",
     "start_time": "2024-08-05T12:02:58.853772400Z"
    }
   },
   "outputs": [],
   "source": [
    "import pandas as pd"
   ]
  },
  {
   "cell_type": "code",
   "outputs": [],
   "source": [
    "# Daftar file CSV yang akan dimuat\n",
    "file_info = [\n",
    "    {'file_path': '../data_3_kafka_with_latency.csv', 'broker': 'Kafka', 'requests': 3},\n",
    "    {'file_path': '../data_6_kafka_with_latency.csv', 'broker': 'Kafka', 'requests': 6},\n",
    "    {'file_path': '../data_30_kafka_with_latency.csv', 'broker': 'Kafka', 'requests': 30},\n",
    "    {'file_path': '../data_60_kafka_with_latency.csv', 'broker': 'Kafka', 'requests': 60},\n",
    "    {'file_path': '../data_300_kafka_with_latency.csv', 'broker': 'Kafka', 'requests': 300},\n",
    "    {'file_path': '../data_600_kafka_with_latency.csv', 'broker': 'Kafka', 'requests': 600},\n",
    "    {'file_path': '../data_3k_kafka_with_latency.csv', 'broker': 'Kafka', 'requests': 3000},\n",
    "    {'file_path': '../data_6k_nats_with_latency.csv', 'broker': 'Kafka', 'requests': 6000},\n",
    "    {'file_path': '../data_3_nats_with_latency.csv', 'broker': 'NATS', 'requests': 3},\n",
    "    {'file_path': '../data_6_nats_with_latency.csv', 'broker': 'NATS', 'requests': 6},\n",
    "    {'file_path': '../data_30_nats_with_latency.csv', 'broker': 'NATS', 'requests': 30},\n",
    "    {'file_path': '../data_60_nats_with_latency.csv', 'broker': 'NATS', 'requests': 60},\n",
    "    {'file_path': '../data_300_nats_with_latency.csv', 'broker': 'NATS', 'requests': 300},\n",
    "    {'file_path': '../data_600_nats_with_latency.csv', 'broker': 'NATS', 'requests': 600},\n",
    "    {'file_path': '../data_3k_nats_with_latency.csv', 'broker': 'NATS', 'requests': 3000},\n",
    "    {'file_path': '../data_6k_nats_with_latency.csv', 'broker': 'NATS', 'requests': 6000},\n",
    "]"
   ],
   "metadata": {
    "collapsed": false,
    "ExecuteTime": {
     "end_time": "2024-08-05T12:03:00.089786800Z",
     "start_time": "2024-08-05T12:03:00.079241200Z"
    }
   },
   "id": "31f371ca1296857f",
   "execution_count": 5
  },
  {
   "cell_type": "code",
   "outputs": [
    {
     "name": "stdout",
     "output_type": "stream",
     "text": [
      "File: ../data_3_kafka_with_latency.csv - Rows: 2718\n",
      "File: ../data_6_kafka_with_latency.csv - Rows: 5190\n",
      "File: ../data_30_kafka_with_latency.csv - Rows: 28497\n",
      "File: ../data_60_kafka_with_latency.csv - Rows: 57583\n",
      "File: ../data_300_kafka_with_latency.csv - Rows: 290169\n",
      "File: ../data_600_kafka_with_latency.csv - Rows: 569060\n",
      "File: ../data_3k_kafka_with_latency.csv - Rows: 2898003\n",
      "File: ../data_6k_nats_with_latency.csv - Rows: 5786761\n",
      "File: ../data_3_nats_with_latency.csv - Rows: 2056\n",
      "File: ../data_6_nats_with_latency.csv - Rows: 5533\n",
      "File: ../data_30_nats_with_latency.csv - Rows: 28780\n",
      "File: ../data_60_nats_with_latency.csv - Rows: 55970\n",
      "File: ../data_300_nats_with_latency.csv - Rows: 285167\n",
      "File: ../data_600_nats_with_latency.csv - Rows: 573736\n",
      "File: ../data_3k_nats_with_latency.csv - Rows: 2871233\n",
      "File: ../data_6k_nats_with_latency.csv - Rows: 5786761\n",
      "Success save csv: combined_data_notifications.csv\n"
     ]
    }
   ],
   "source": [
    "import os\n",
    "\n",
    "# Daftar untuk menyimpan DataFrame dari setiap file CSV\n",
    "dfs = []\n",
    "\n",
    "for info in file_info:\n",
    "    # Baca file CSV ke DataFrame\n",
    "    df = pd.read_csv(info['file_path'])\n",
    "    if not os.path.exists(info['file_path']):\n",
    "        print(f\"File not found: {info['file_path']}\")\n",
    "        \n",
    "    print(f\"File: {info['file_path']} - Rows: {len(df)}\")\n",
    "    \n",
    "    # Ekstrak data latency\n",
    "    df['Latency'] = df['e2eLatency']\n",
    "    \n",
    "    # Tambahkan kolom 'Broker' dan 'Requests' sesuai informasi manual\n",
    "    df['Broker'] = info['broker']\n",
    "    df['Requests'] = info['requests']\n",
    "    \n",
    "    # Simpan DataFrame ke dalam daftar\n",
    "    dfs.append(df[['Latency', 'Broker', 'Requests']])\n",
    "\n",
    "# Gabungkan semua DataFrame menjadi satu\n",
    "combined_df = pd.concat(dfs, ignore_index=True)\n",
    "\n",
    "# Menyimpan DataFrame yang sudah digabungkan ke file CSV\n",
    "combined_df.to_csv('combined_data_notifications.csv', index=False)\n",
    "\n",
    "print(\"Success save csv: combined_data_notifications.csv\")"
   ],
   "metadata": {
    "collapsed": false,
    "ExecuteTime": {
     "end_time": "2024-08-05T12:40:24.527008600Z",
     "start_time": "2024-08-05T12:39:44.851777700Z"
    }
   },
   "id": "c3bf856cbd59ee3",
   "execution_count": 8
  }
 ],
 "metadata": {
  "kernelspec": {
   "display_name": "Python 3",
   "language": "python",
   "name": "python3"
  },
  "language_info": {
   "codemirror_mode": {
    "name": "ipython",
    "version": 2
   },
   "file_extension": ".py",
   "mimetype": "text/x-python",
   "name": "python",
   "nbconvert_exporter": "python",
   "pygments_lexer": "ipython2",
   "version": "2.7.6"
  }
 },
 "nbformat": 4,
 "nbformat_minor": 5
}
