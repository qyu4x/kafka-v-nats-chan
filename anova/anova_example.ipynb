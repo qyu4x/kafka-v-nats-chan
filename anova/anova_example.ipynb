{
 "cells": [
  {
   "cell_type": "code",
   "execution_count": 2,
   "id": "initial_id",
   "metadata": {
    "collapsed": true,
    "ExecuteTime": {
     "end_time": "2024-08-05T09:23:27.108031600Z",
     "start_time": "2024-08-05T09:23:26.391481900Z"
    }
   },
   "outputs": [],
   "source": [
    "import pandas as pd\n",
    "import statsmodels.api as sm\n",
    "from statsmodels.formula.api import ols"
   ]
  },
  {
   "cell_type": "code",
   "outputs": [
    {
     "name": "stdout",
     "output_type": "stream",
     "text": [
      "                              sum_sq     df             F        PR(>F)\n",
      "C(Broker)               1.000000e+03    1.0  4.236540e+00  4.136551e-02\n",
      "C(Consumers)            1.056100e+05    7.0  6.391729e+01  4.733251e-41\n",
      "C(Broker):C(Consumers)  6.135066e-26    7.0  3.713065e-29  1.000000e+00\n",
      "Residual                3.399000e+04  144.0           NaN           NaN\n"
     ]
    }
   ],
   "source": [
    "# Two Way ANOVA\n",
    "# Contoh data latency (dalam milidetik) untuk Kafka dan NATS dengan berbagai jumlah konsumen\n",
    "import pandas as pd\n",
    "import statsmodels.api as sm\n",
    "from statsmodels.formula.api import ols\n",
    "\n",
    "# Contoh data latency (dalam milidetik) untuk Kafka dan NATS dengan berbagai jumlah konsumen\n",
    "data = {\n",
    "    'Latency': [\n",
    "        # Data untuk Kafka dengan berbagai jumlah konsumen\n",
    "        120, 130, 115, 125, 140, 150, 110, 135, 145, 155, # 3 konsumen\n",
    "        100, 105, 95, 90, 85, 95, 100, 110, 120, 130,    # 8 konsumen\n",
    "        150, 160, 155, 165, 170, 175, 160, 185, 195, 205, # 30 konsumen\n",
    "        110, 120, 115, 125, 130, 135, 140, 145, 150, 155, # 60 konsumen\n",
    "        160, 165, 170, 175, 180, 185, 190, 195, 200, 205, # 300 konsumen\n",
    "        110, 115, 120, 125, 130, 135, 140, 145, 150, 155, # 800 konsumen\n",
    "        150, 155, 160, 165, 170, 175, 180, 185, 190, 195, # 3000 konsumen\n",
    "        110, 115, 120, 125, 130, 135, 140, 145, 150, 155, # 6000 konsumen\n",
    "        # Data untuk NATS dengan berbagai jumlah konsumen\n",
    "        125, 135, 120, 130, 145, 155, 115, 140, 150, 160, # 3 konsumen\n",
    "        105, 110, 100, 95, 90, 100, 105, 115, 125, 135,    # 8 konsumen\n",
    "        155, 165, 160, 170, 175, 180, 165, 190, 200, 210, # 30 konsumen\n",
    "        115, 125, 120, 130, 135, 140, 145, 150, 155, 160, # 60 konsumen\n",
    "        165, 170, 175, 180, 185, 190, 195, 200, 205, 210, # 300 konsumen\n",
    "        115, 120, 125, 130, 135, 140, 145, 150, 155, 160, # 800 konsumen\n",
    "        155, 160, 165, 170, 175, 180, 185, 190, 195, 200, # 3000 konsumen\n",
    "        115, 120, 125, 130, 135, 140, 145, 150, 155, 160  # 6000 konsumen\n",
    "    ],\n",
    "    'Broker': ['Kafka']*80 + ['NATS']*80,\n",
    "    'Consumers': [3]*10 + [8]*10 + [30]*10 + [60]*10 + [300]*10 + [800]*10 + [3000]*10 + [6000]*10 +\n",
    "                 [3]*10 + [8]*10 + [30]*10 + [60]*10 + [300]*10 + [800]*10 + [3000]*10 + [6000]*10\n",
    "}\n",
    "\n",
    "df = pd.DataFrame(data)\n",
    "\n",
    "# Menyesuaikan model two-way ANOVA\n",
    "model = ols('Latency ~ C(Broker) + C(Consumers) + C(Broker):C(Consumers)', data=df).fit()\n",
    "anova_table = sm.stats.anova_lm(model, typ=2)\n",
    "\n",
    "print(anova_table)\n",
    "\n"
   ],
   "metadata": {
    "collapsed": false,
    "ExecuteTime": {
     "end_time": "2024-08-05T09:27:54.509564700Z",
     "start_time": "2024-08-05T09:27:54.483968300Z"
    }
   },
   "id": "eaf03623f0a19bf7",
   "execution_count": 6
  }
 ],
 "metadata": {
  "kernelspec": {
   "display_name": "Python 3",
   "language": "python",
   "name": "python3"
  },
  "language_info": {
   "codemirror_mode": {
    "name": "ipython",
    "version": 2
   },
   "file_extension": ".py",
   "mimetype": "text/x-python",
   "name": "python",
   "nbconvert_exporter": "python",
   "pygments_lexer": "ipython2",
   "version": "2.7.6"
  }
 },
 "nbformat": 4,
 "nbformat_minor": 5
}
