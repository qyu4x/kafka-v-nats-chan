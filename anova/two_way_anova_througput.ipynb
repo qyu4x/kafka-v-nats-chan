{
 "cells": [
  {
   "cell_type": "code",
   "execution_count": 31,
   "id": "initial_id",
   "metadata": {
    "collapsed": true,
    "ExecuteTime": {
     "end_time": "2024-08-05T14:10:11.114940600Z",
     "start_time": "2024-08-05T14:10:11.109956300Z"
    }
   },
   "outputs": [],
   "source": [
    "import pandas as pd\n",
    "import statsmodels.api as sm\n",
    "from statsmodels.formula.api import ols\n",
    "import numpy as np"
   ]
  },
  {
   "cell_type": "code",
   "outputs": [],
   "source": [
    "# Data yang akan digunakan\n",
    "data = {\n",
    "    'Requests': [3, 6, 30, 60, 300, 600, 3000, 6000] * 2,  # Mengulang Requests untuk Kafka dan NATS\n",
    "    'Broker': ['Kafka'] * 8 + ['NATS'] * 8,  # Jenis Broker\n",
    "    'Throughput': [\n",
    "        # Throughput untuk Kafka\n",
    "        113.38, 123.66, 125.62, 126.88, 132.3, 129.73, 137.92, 141.38,\n",
    "        # Throughput untuk NATS\n",
    "        65.1, 114.69, 116.78, 110.55, 133.46, 128.69, 133.85, 141.64\n",
    "    ]\n",
    "}\n",
    "\n",
    "# Membuat DataFrame dari data\n",
    "df = pd.DataFrame(data)\n",
    "df.to_csv('combined_data_throughput.csv', index=False)"
   ],
   "metadata": {
    "collapsed": false,
    "ExecuteTime": {
     "end_time": "2024-08-05T13:55:37.244094700Z",
     "start_time": "2024-08-05T13:55:37.233829700Z"
    }
   },
   "id": "6808f967cb91dc0",
   "execution_count": 24
  },
  {
   "cell_type": "code",
   "outputs": [
    {
     "name": "stdout",
     "output_type": "stream",
     "text": [
      "        count       mean        std     min      25%      50%       75%  \\\n",
      "Broker                                                                    \n",
      "Kafka     8.0  128.85875   8.721999  113.38  125.130  128.305  133.7050   \n",
      "NATS      8.0  118.09500  23.992989   65.10  113.655  122.735  133.5575   \n",
      "\n",
      "           max  \n",
      "Broker          \n",
      "Kafka   141.38  \n",
      "NATS    141.64  \n",
      "-----------------------END OF LINE\n",
      "          count     mean        std     min       25%      50%       75%  \\\n",
      "Requests                                                                   \n",
      "3           2.0   89.240  34.139115   65.10   77.1700   89.240  101.3100   \n",
      "6           2.0  119.175   6.342748  114.69  116.9325  119.175  121.4175   \n",
      "30          2.0  121.200   6.250824  116.78  118.9900  121.200  123.4100   \n",
      "60          2.0  118.715  11.547054  110.55  114.6325  118.715  122.7975   \n",
      "300         2.0  132.880   0.820244  132.30  132.5900  132.880  133.1700   \n",
      "600         2.0  129.210   0.735391  128.69  128.9500  129.210  129.4700   \n",
      "3000        2.0  135.885   2.877925  133.85  134.8675  135.885  136.9025   \n",
      "6000        2.0  141.510   0.183848  141.38  141.4450  141.510  141.5750   \n",
      "\n",
      "             max  \n",
      "Requests          \n",
      "3         113.38  \n",
      "6         123.66  \n",
      "30        125.62  \n",
      "60        126.88  \n",
      "300       133.46  \n",
      "600       129.73  \n",
      "3000      137.92  \n",
      "6000      141.64  \n",
      "-----------------------END OF LINE\n",
      "          Requests  Throughput\n",
      "count    16.000000   16.000000\n",
      "mean   1249.875000  123.476875\n",
      "std    2096.252048   18.304081\n",
      "min       3.000000   65.100000\n",
      "25%      24.000000  116.257500\n",
      "50%     180.000000  127.785000\n",
      "75%    1200.000000  133.557500\n",
      "max    6000.000000  141.640000\n",
      "ShapiroResult(statistic=np.float64(0.7724326063360012), pvalue=np.float64(0.0011994275960621266))\n",
      "LeveneResult(statistic=np.float64(2.3870077779768737), pvalue=np.float64(0.144647514715757))\n"
     ]
    },
    {
     "name": "stderr",
     "output_type": "stream",
     "text": [
      "D:\\..SKRIPSI\\CALCULATION\\e2e-latency\\.venv\\Lib\\site-packages\\statsmodels\\regression\\linear_model.py:1718: RuntimeWarning: divide by zero encountered in scalar divide\n",
      "  return np.dot(wresid, wresid) / self.df_resid\n"
     ]
    },
    {
     "ename": "ValueError",
     "evalue": "array must not contain infs or NaNs",
     "output_type": "error",
     "traceback": [
      "\u001B[1;31m---------------------------------------------------------------------------\u001B[0m",
      "\u001B[1;31mValueError\u001B[0m                                Traceback (most recent call last)",
      "Cell \u001B[1;32mIn[43], line 23\u001B[0m\n\u001B[0;32m     20\u001B[0m model \u001B[38;5;241m=\u001B[39m ols(\u001B[38;5;124m'\u001B[39m\u001B[38;5;124mThroughput ~ C(Broker) + C(Requests) + C(Broker):C(Requests)\u001B[39m\u001B[38;5;124m'\u001B[39m, data\u001B[38;5;241m=\u001B[39mdf)\u001B[38;5;241m.\u001B[39mfit()\n\u001B[0;32m     22\u001B[0m \u001B[38;5;66;03m# Hitung tabel ANOVA\u001B[39;00m\n\u001B[1;32m---> 23\u001B[0m anova_table \u001B[38;5;241m=\u001B[39m \u001B[43msm\u001B[49m\u001B[38;5;241;43m.\u001B[39;49m\u001B[43mstats\u001B[49m\u001B[38;5;241;43m.\u001B[39;49m\u001B[43manova_lm\u001B[49m\u001B[43m(\u001B[49m\u001B[43mmodel\u001B[49m\u001B[43m,\u001B[49m\u001B[43m \u001B[49m\u001B[43mtyp\u001B[49m\u001B[38;5;241;43m=\u001B[39;49m\u001B[38;5;241;43m2\u001B[39;49m\u001B[43m)\u001B[49m\n\u001B[0;32m     25\u001B[0m \u001B[38;5;66;03m# Tampilkan tabel ANOVA\u001B[39;00m\n\u001B[0;32m     26\u001B[0m \u001B[38;5;28mprint\u001B[39m(anova_table)\n",
      "File \u001B[1;32mD:\\..SKRIPSI\\CALCULATION\\e2e-latency\\.venv\\Lib\\site-packages\\statsmodels\\stats\\anova.py:353\u001B[0m, in \u001B[0;36manova_lm\u001B[1;34m(*args, **kwargs)\u001B[0m\n\u001B[0;32m    351\u001B[0m \u001B[38;5;28;01mif\u001B[39;00m \u001B[38;5;28mlen\u001B[39m(args) \u001B[38;5;241m==\u001B[39m \u001B[38;5;241m1\u001B[39m:\n\u001B[0;32m    352\u001B[0m     model \u001B[38;5;241m=\u001B[39m args[\u001B[38;5;241m0\u001B[39m]\n\u001B[1;32m--> 353\u001B[0m     \u001B[38;5;28;01mreturn\u001B[39;00m \u001B[43manova_single\u001B[49m\u001B[43m(\u001B[49m\u001B[43mmodel\u001B[49m\u001B[43m,\u001B[49m\u001B[43m \u001B[49m\u001B[38;5;241;43m*\u001B[39;49m\u001B[38;5;241;43m*\u001B[39;49m\u001B[43mkwargs\u001B[49m\u001B[43m)\u001B[49m\n\u001B[0;32m    355\u001B[0m \u001B[38;5;28;01mif\u001B[39;00m typ \u001B[38;5;129;01mnot\u001B[39;00m \u001B[38;5;129;01min\u001B[39;00m [\u001B[38;5;241m1\u001B[39m, \u001B[38;5;124m\"\u001B[39m\u001B[38;5;124mI\u001B[39m\u001B[38;5;124m\"\u001B[39m]:\n\u001B[0;32m    356\u001B[0m     \u001B[38;5;28;01mraise\u001B[39;00m \u001B[38;5;167;01mValueError\u001B[39;00m(\u001B[38;5;124m\"\u001B[39m\u001B[38;5;124mMultiple models only supported for type I. \u001B[39m\u001B[38;5;124m\"\u001B[39m\n\u001B[0;32m    357\u001B[0m                      \u001B[38;5;124m\"\u001B[39m\u001B[38;5;124mGot type \u001B[39m\u001B[38;5;132;01m%s\u001B[39;00m\u001B[38;5;124m\"\u001B[39m \u001B[38;5;241m%\u001B[39m \u001B[38;5;28mstr\u001B[39m(typ))\n",
      "File \u001B[1;32mD:\\..SKRIPSI\\CALCULATION\\e2e-latency\\.venv\\Lib\\site-packages\\statsmodels\\stats\\anova.py:84\u001B[0m, in \u001B[0;36manova_single\u001B[1;34m(model, **kwargs)\u001B[0m\n\u001B[0;32m     81\u001B[0m     \u001B[38;5;28;01mreturn\u001B[39;00m anova1_lm_single(model, endog, exog, nobs, design_info, table,\n\u001B[0;32m     82\u001B[0m                             n_rows, test, pr_test, robust)\n\u001B[0;32m     83\u001B[0m \u001B[38;5;28;01melif\u001B[39;00m typ \u001B[38;5;129;01min\u001B[39;00m [\u001B[38;5;241m2\u001B[39m, \u001B[38;5;124m\"\u001B[39m\u001B[38;5;124mII\u001B[39m\u001B[38;5;124m\"\u001B[39m]:\n\u001B[1;32m---> 84\u001B[0m     \u001B[38;5;28;01mreturn\u001B[39;00m \u001B[43manova2_lm_single\u001B[49m\u001B[43m(\u001B[49m\u001B[43mmodel\u001B[49m\u001B[43m,\u001B[49m\u001B[43m \u001B[49m\u001B[43mdesign_info\u001B[49m\u001B[43m,\u001B[49m\u001B[43m \u001B[49m\u001B[43mn_rows\u001B[49m\u001B[43m,\u001B[49m\u001B[43m \u001B[49m\u001B[43mtest\u001B[49m\u001B[43m,\u001B[49m\u001B[43m \u001B[49m\u001B[43mpr_test\u001B[49m\u001B[43m,\u001B[49m\n\u001B[0;32m     85\u001B[0m \u001B[43m                            \u001B[49m\u001B[43mrobust\u001B[49m\u001B[43m)\u001B[49m\n\u001B[0;32m     86\u001B[0m \u001B[38;5;28;01melif\u001B[39;00m typ \u001B[38;5;129;01min\u001B[39;00m [\u001B[38;5;241m3\u001B[39m, \u001B[38;5;124m\"\u001B[39m\u001B[38;5;124mIII\u001B[39m\u001B[38;5;124m\"\u001B[39m]:\n\u001B[0;32m     87\u001B[0m     \u001B[38;5;28;01mreturn\u001B[39;00m anova3_lm_single(model, design_info, n_rows, test, pr_test,\n\u001B[0;32m     88\u001B[0m                             robust)\n",
      "File \u001B[1;32mD:\\..SKRIPSI\\CALCULATION\\e2e-latency\\.venv\\Lib\\site-packages\\statsmodels\\stats\\anova.py:207\u001B[0m, in \u001B[0;36manova2_lm_single\u001B[1;34m(model, design_info, n_rows, test, pr_test, robust)\u001B[0m\n\u001B[0;32m    205\u001B[0m LVL \u001B[38;5;241m=\u001B[39m np\u001B[38;5;241m.\u001B[39mdot(np\u001B[38;5;241m.\u001B[39mdot(L1,robust_cov),L2\u001B[38;5;241m.\u001B[39mT)\n\u001B[0;32m    206\u001B[0m \u001B[38;5;28;01mfrom\u001B[39;00m \u001B[38;5;21;01mscipy\u001B[39;00m \u001B[38;5;28;01mimport\u001B[39;00m linalg\n\u001B[1;32m--> 207\u001B[0m orth_compl,_ \u001B[38;5;241m=\u001B[39m \u001B[43mlinalg\u001B[49m\u001B[38;5;241;43m.\u001B[39;49m\u001B[43mqr\u001B[49m\u001B[43m(\u001B[49m\u001B[43mLVL\u001B[49m\u001B[43m)\u001B[49m\n\u001B[0;32m    208\u001B[0m r \u001B[38;5;241m=\u001B[39m L1\u001B[38;5;241m.\u001B[39mshape[\u001B[38;5;241m0\u001B[39m] \u001B[38;5;241m-\u001B[39m L2\u001B[38;5;241m.\u001B[39mshape[\u001B[38;5;241m0\u001B[39m]\n\u001B[0;32m    209\u001B[0m \u001B[38;5;66;03m# L1|2\u001B[39;00m\n\u001B[0;32m    210\u001B[0m \u001B[38;5;66;03m# use the non-unique orthogonal completion since L12 is rank r\u001B[39;00m\n",
      "File \u001B[1;32mD:\\..SKRIPSI\\CALCULATION\\e2e-latency\\.venv\\Lib\\site-packages\\scipy\\linalg\\_decomp_qr.py:129\u001B[0m, in \u001B[0;36mqr\u001B[1;34m(a, overwrite_a, lwork, mode, pivoting, check_finite)\u001B[0m\n\u001B[0;32m    125\u001B[0m     \u001B[38;5;28;01mraise\u001B[39;00m \u001B[38;5;167;01mValueError\u001B[39;00m(\u001B[38;5;124m\"\u001B[39m\u001B[38;5;124mMode argument should be one of [\u001B[39m\u001B[38;5;124m'\u001B[39m\u001B[38;5;124mfull\u001B[39m\u001B[38;5;124m'\u001B[39m\u001B[38;5;124m, \u001B[39m\u001B[38;5;124m'\u001B[39m\u001B[38;5;124mr\u001B[39m\u001B[38;5;124m'\u001B[39m\u001B[38;5;124m, \u001B[39m\u001B[38;5;124m\"\u001B[39m\n\u001B[0;32m    126\u001B[0m                      \u001B[38;5;124m\"\u001B[39m\u001B[38;5;124m'\u001B[39m\u001B[38;5;124meconomic\u001B[39m\u001B[38;5;124m'\u001B[39m\u001B[38;5;124m, \u001B[39m\u001B[38;5;124m'\u001B[39m\u001B[38;5;124mraw\u001B[39m\u001B[38;5;124m'\u001B[39m\u001B[38;5;124m]\u001B[39m\u001B[38;5;124m\"\u001B[39m)\n\u001B[0;32m    128\u001B[0m \u001B[38;5;28;01mif\u001B[39;00m check_finite:\n\u001B[1;32m--> 129\u001B[0m     a1 \u001B[38;5;241m=\u001B[39m \u001B[43mnp\u001B[49m\u001B[38;5;241;43m.\u001B[39;49m\u001B[43masarray_chkfinite\u001B[49m\u001B[43m(\u001B[49m\u001B[43ma\u001B[49m\u001B[43m)\u001B[49m\n\u001B[0;32m    130\u001B[0m \u001B[38;5;28;01melse\u001B[39;00m:\n\u001B[0;32m    131\u001B[0m     a1 \u001B[38;5;241m=\u001B[39m np\u001B[38;5;241m.\u001B[39masarray(a)\n",
      "File \u001B[1;32mD:\\..SKRIPSI\\CALCULATION\\e2e-latency\\.venv\\Lib\\site-packages\\numpy\\lib\\_function_base_impl.py:649\u001B[0m, in \u001B[0;36masarray_chkfinite\u001B[1;34m(a, dtype, order)\u001B[0m\n\u001B[0;32m    647\u001B[0m a \u001B[38;5;241m=\u001B[39m asarray(a, dtype\u001B[38;5;241m=\u001B[39mdtype, order\u001B[38;5;241m=\u001B[39morder)\n\u001B[0;32m    648\u001B[0m \u001B[38;5;28;01mif\u001B[39;00m a\u001B[38;5;241m.\u001B[39mdtype\u001B[38;5;241m.\u001B[39mchar \u001B[38;5;129;01min\u001B[39;00m typecodes[\u001B[38;5;124m'\u001B[39m\u001B[38;5;124mAllFloat\u001B[39m\u001B[38;5;124m'\u001B[39m] \u001B[38;5;129;01mand\u001B[39;00m \u001B[38;5;129;01mnot\u001B[39;00m np\u001B[38;5;241m.\u001B[39misfinite(a)\u001B[38;5;241m.\u001B[39mall():\n\u001B[1;32m--> 649\u001B[0m     \u001B[38;5;28;01mraise\u001B[39;00m \u001B[38;5;167;01mValueError\u001B[39;00m(\n\u001B[0;32m    650\u001B[0m         \u001B[38;5;124m\"\u001B[39m\u001B[38;5;124marray must not contain infs or NaNs\u001B[39m\u001B[38;5;124m\"\u001B[39m)\n\u001B[0;32m    651\u001B[0m \u001B[38;5;28;01mreturn\u001B[39;00m a\n",
      "\u001B[1;31mValueError\u001B[0m: array must not contain infs or NaNs"
     ]
    }
   ],
   "source": [
    "from scipy.stats import shapiro, levene\n",
    "df = pd.read_csv('./combined_data_throughput.csv')\n",
    "\n",
    "\n",
    "print(df.groupby('Broker')['Throughput'].describe())\n",
    "print('-----------------------END OF LINE')\n",
    "print(df.groupby('Requests')['Throughput'].describe())\n",
    "print('-----------------------END OF LINE')\n",
    "print(df.describe())\n",
    "\n",
    "\n",
    "# Uji Normalitas\n",
    "print(shapiro(df['Throughput']))\n",
    "\n",
    "# Uji Homoskedastisitas\n",
    "groups = df.groupby('Broker')['Throughput'].apply(list)\n",
    "print(levene(*groups))\n",
    "\n",
    "# Siapkan model ANOVA dua arah\n",
    "model = ols('Throughput ~ C(Broker) + C(Requests) + C(Broker):C(Requests)', data=df).fit()\n",
    "\n",
    "# Hitung tabel ANOVA\n",
    "anova_table = sm.stats.anova_lm(model, typ=2)\n",
    "\n",
    "# Tampilkan tabel ANOVA\n",
    "print(anova_table)"
   ],
   "metadata": {
    "collapsed": false
   },
   "id": "20a31f4118f5837e",
   "execution_count": 43
  },
  {
   "cell_type": "code",
   "outputs": [
    {
     "data": {
      "text/plain": "<Figure size 640x480 with 1 Axes>",
      "image/png": "[encoded data removed]"
     },
     "metadata": {},
     "output_type": "display_data"
    }
   ],
   "source": [
    "import matplotlib.pyplot as plt\n",
    "\n",
    "plt.hist(df['Throughput'], bins=20, edgecolor='k')\n",
    "plt.title('Histogram of Throughput')\n",
    "plt.xlabel('Throughput')\n",
    "plt.ylabel('Frequency')\n",
    "plt.show()"
   ],
   "metadata": {
    "collapsed": false,
    "ExecuteTime": {
     "end_time": "2024-08-05T14:33:03.288221400Z",
     "start_time": "2024-08-05T14:33:02.583346300Z"
    }
   },
   "id": "2626d1aba0741871",
   "execution_count": 47
  },
  {
   "cell_type": "code",
   "outputs": [
    {
     "name": "stdout",
     "output_type": "stream",
     "text": [
      "Shapiro-Wilk test: ShapiroResult(statistic=np.float64(0.7724326063360012), pvalue=np.float64(0.0011994275960621266))\n",
      "Shapiro-Wilk test (Box-Cox-transformed): ShapiroResult(statistic=np.float64(0.973152919639874), pvalue=np.float64(0.8867276731398035))\n"
     ]
    }
   ],
   "source": [
    "from scipy.stats import shapiro\n",
    "\n",
    "shapiro_test = shapiro(df['Throughput'])\n",
    "print('Shapiro-Wilk test:', shapiro_test)\n",
    "\n",
    "from scipy import stats\n",
    "\n",
    "# Terapkan transformasi Box-Cox\n",
    "df['Throughput_boxcox'], _ = stats.boxcox(df['Throughput'] + 1)  # Menambahkan 1 untuk menghindari masalah dengan nilai 0\n",
    "\n",
    "# Lakukan uji Shapiro-Wilk lagi pada data yang telah ditransformasi\n",
    "shapiro_test_boxcox = shapiro(df['Throughput_boxcox'])\n",
    "print('Shapiro-Wilk test (Box-Cox-transformed):', shapiro_test_boxcox)\n",
    "\n",
    "\n"
   ],
   "metadata": {
    "collapsed": false,
    "ExecuteTime": {
     "end_time": "2024-08-05T14:40:22.360833400Z",
     "start_time": "2024-08-05T14:40:22.350925Z"
    }
   },
   "id": "930b47772d913962",
   "execution_count": 52
  },
  {
   "cell_type": "code",
   "outputs": [
    {
     "name": "stdout",
     "output_type": "stream",
     "text": [
      "Shapiro-Wilk test (Box-Cox-transformed): ShapiroResult(statistic=np.float64(0.973152919639874), pvalue=np.float64(0.8867276731398035))\n",
      "Variance Inflation Factor (VIF):\n"
     ]
    },
    {
     "ename": "TypeError",
     "evalue": "ufunc 'isfinite' not supported for the input types, and the inputs could not be safely coerced to any supported types according to the casting rule ''safe''",
     "output_type": "error",
     "traceback": [
      "\u001B[1;31m---------------------------------------------------------------------------\u001B[0m",
      "\u001B[1;31mTypeError\u001B[0m                                 Traceback (most recent call last)",
      "Cell \u001B[1;32mIn[58], line 32\u001B[0m\n\u001B[0;32m     30\u001B[0m vif_data \u001B[38;5;241m=\u001B[39m pd\u001B[38;5;241m.\u001B[39mDataFrame()\n\u001B[0;32m     31\u001B[0m vif_data[\u001B[38;5;124m\"\u001B[39m\u001B[38;5;124mfeature\u001B[39m\u001B[38;5;124m\"\u001B[39m] \u001B[38;5;241m=\u001B[39m X\u001B[38;5;241m.\u001B[39mcolumns\n\u001B[1;32m---> 32\u001B[0m vif_data[\u001B[38;5;124m\"\u001B[39m\u001B[38;5;124mVIF\u001B[39m\u001B[38;5;124m\"\u001B[39m] \u001B[38;5;241m=\u001B[39m \u001B[43m[\u001B[49m\u001B[43mvariance_inflation_factor\u001B[49m\u001B[43m(\u001B[49m\u001B[43mX\u001B[49m\u001B[38;5;241;43m.\u001B[39;49m\u001B[43mvalues\u001B[49m\u001B[43m,\u001B[49m\u001B[43m \u001B[49m\u001B[43mi\u001B[49m\u001B[43m)\u001B[49m\u001B[43m \u001B[49m\u001B[38;5;28;43;01mfor\u001B[39;49;00m\u001B[43m \u001B[49m\u001B[43mi\u001B[49m\u001B[43m \u001B[49m\u001B[38;5;129;43;01min\u001B[39;49;00m\u001B[43m \u001B[49m\u001B[38;5;28;43mrange\u001B[39;49m\u001B[43m(\u001B[49m\u001B[43mX\u001B[49m\u001B[38;5;241;43m.\u001B[39;49m\u001B[43mshape\u001B[49m\u001B[43m[\u001B[49m\u001B[38;5;241;43m1\u001B[39;49m\u001B[43m]\u001B[49m\u001B[43m)\u001B[49m\u001B[43m]\u001B[49m\n\u001B[0;32m     33\u001B[0m \u001B[38;5;28mprint\u001B[39m(vif_data)\n\u001B[0;32m     35\u001B[0m \u001B[38;5;66;03m# Siapkan model ANOVA dua arah dengan data yang telah ditransformasi\u001B[39;00m\n",
      "Cell \u001B[1;32mIn[58], line 32\u001B[0m, in \u001B[0;36m<listcomp>\u001B[1;34m(.0)\u001B[0m\n\u001B[0;32m     30\u001B[0m vif_data \u001B[38;5;241m=\u001B[39m pd\u001B[38;5;241m.\u001B[39mDataFrame()\n\u001B[0;32m     31\u001B[0m vif_data[\u001B[38;5;124m\"\u001B[39m\u001B[38;5;124mfeature\u001B[39m\u001B[38;5;124m\"\u001B[39m] \u001B[38;5;241m=\u001B[39m X\u001B[38;5;241m.\u001B[39mcolumns\n\u001B[1;32m---> 32\u001B[0m vif_data[\u001B[38;5;124m\"\u001B[39m\u001B[38;5;124mVIF\u001B[39m\u001B[38;5;124m\"\u001B[39m] \u001B[38;5;241m=\u001B[39m [\u001B[43mvariance_inflation_factor\u001B[49m\u001B[43m(\u001B[49m\u001B[43mX\u001B[49m\u001B[38;5;241;43m.\u001B[39;49m\u001B[43mvalues\u001B[49m\u001B[43m,\u001B[49m\u001B[43m \u001B[49m\u001B[43mi\u001B[49m\u001B[43m)\u001B[49m \u001B[38;5;28;01mfor\u001B[39;00m i \u001B[38;5;129;01min\u001B[39;00m \u001B[38;5;28mrange\u001B[39m(X\u001B[38;5;241m.\u001B[39mshape[\u001B[38;5;241m1\u001B[39m])]\n\u001B[0;32m     33\u001B[0m \u001B[38;5;28mprint\u001B[39m(vif_data)\n\u001B[0;32m     35\u001B[0m \u001B[38;5;66;03m# Siapkan model ANOVA dua arah dengan data yang telah ditransformasi\u001B[39;00m\n",
      "File \u001B[1;32mD:\\..SKRIPSI\\CALCULATION\\e2e-latency\\.venv\\Lib\\site-packages\\statsmodels\\stats\\outliers_influence.py:196\u001B[0m, in \u001B[0;36mvariance_inflation_factor\u001B[1;34m(exog, exog_idx)\u001B[0m\n\u001B[0;32m    194\u001B[0m mask \u001B[38;5;241m=\u001B[39m np\u001B[38;5;241m.\u001B[39marange(k_vars) \u001B[38;5;241m!=\u001B[39m exog_idx\n\u001B[0;32m    195\u001B[0m x_noti \u001B[38;5;241m=\u001B[39m exog[:, mask]\n\u001B[1;32m--> 196\u001B[0m r_squared_i \u001B[38;5;241m=\u001B[39m \u001B[43mOLS\u001B[49m\u001B[43m(\u001B[49m\u001B[43mx_i\u001B[49m\u001B[43m,\u001B[49m\u001B[43m \u001B[49m\u001B[43mx_noti\u001B[49m\u001B[43m)\u001B[49m\u001B[38;5;241m.\u001B[39mfit()\u001B[38;5;241m.\u001B[39mrsquared\n\u001B[0;32m    197\u001B[0m vif \u001B[38;5;241m=\u001B[39m \u001B[38;5;241m1.\u001B[39m \u001B[38;5;241m/\u001B[39m (\u001B[38;5;241m1.\u001B[39m \u001B[38;5;241m-\u001B[39m r_squared_i)\n\u001B[0;32m    198\u001B[0m \u001B[38;5;28;01mreturn\u001B[39;00m vif\n",
      "File \u001B[1;32mD:\\..SKRIPSI\\CALCULATION\\e2e-latency\\.venv\\Lib\\site-packages\\statsmodels\\regression\\linear_model.py:924\u001B[0m, in \u001B[0;36mOLS.__init__\u001B[1;34m(self, endog, exog, missing, hasconst, **kwargs)\u001B[0m\n\u001B[0;32m    921\u001B[0m     msg \u001B[38;5;241m=\u001B[39m (\u001B[38;5;124m\"\u001B[39m\u001B[38;5;124mWeights are not supported in OLS and will be ignored\u001B[39m\u001B[38;5;124m\"\u001B[39m\n\u001B[0;32m    922\u001B[0m            \u001B[38;5;124m\"\u001B[39m\u001B[38;5;124mAn exception will be raised in the next version.\u001B[39m\u001B[38;5;124m\"\u001B[39m)\n\u001B[0;32m    923\u001B[0m     warnings\u001B[38;5;241m.\u001B[39mwarn(msg, ValueWarning)\n\u001B[1;32m--> 924\u001B[0m \u001B[38;5;28;43msuper\u001B[39;49m\u001B[43m(\u001B[49m\u001B[43m)\u001B[49m\u001B[38;5;241;43m.\u001B[39;49m\u001B[38;5;21;43m__init__\u001B[39;49m\u001B[43m(\u001B[49m\u001B[43mendog\u001B[49m\u001B[43m,\u001B[49m\u001B[43m \u001B[49m\u001B[43mexog\u001B[49m\u001B[43m,\u001B[49m\u001B[43m \u001B[49m\u001B[43mmissing\u001B[49m\u001B[38;5;241;43m=\u001B[39;49m\u001B[43mmissing\u001B[49m\u001B[43m,\u001B[49m\n\u001B[0;32m    925\u001B[0m \u001B[43m                          \u001B[49m\u001B[43mhasconst\u001B[49m\u001B[38;5;241;43m=\u001B[39;49m\u001B[43mhasconst\u001B[49m\u001B[43m,\u001B[49m\u001B[43m \u001B[49m\u001B[38;5;241;43m*\u001B[39;49m\u001B[38;5;241;43m*\u001B[39;49m\u001B[43mkwargs\u001B[49m\u001B[43m)\u001B[49m\n\u001B[0;32m    926\u001B[0m \u001B[38;5;28;01mif\u001B[39;00m \u001B[38;5;124m\"\u001B[39m\u001B[38;5;124mweights\u001B[39m\u001B[38;5;124m\"\u001B[39m \u001B[38;5;129;01min\u001B[39;00m \u001B[38;5;28mself\u001B[39m\u001B[38;5;241m.\u001B[39m_init_keys:\n\u001B[0;32m    927\u001B[0m     \u001B[38;5;28mself\u001B[39m\u001B[38;5;241m.\u001B[39m_init_keys\u001B[38;5;241m.\u001B[39mremove(\u001B[38;5;124m\"\u001B[39m\u001B[38;5;124mweights\u001B[39m\u001B[38;5;124m\"\u001B[39m)\n",
      "File \u001B[1;32mD:\\..SKRIPSI\\CALCULATION\\e2e-latency\\.venv\\Lib\\site-packages\\statsmodels\\regression\\linear_model.py:749\u001B[0m, in \u001B[0;36mWLS.__init__\u001B[1;34m(self, endog, exog, weights, missing, hasconst, **kwargs)\u001B[0m\n\u001B[0;32m    747\u001B[0m \u001B[38;5;28;01melse\u001B[39;00m:\n\u001B[0;32m    748\u001B[0m     weights \u001B[38;5;241m=\u001B[39m weights\u001B[38;5;241m.\u001B[39msqueeze()\n\u001B[1;32m--> 749\u001B[0m \u001B[38;5;28;43msuper\u001B[39;49m\u001B[43m(\u001B[49m\u001B[43m)\u001B[49m\u001B[38;5;241;43m.\u001B[39;49m\u001B[38;5;21;43m__init__\u001B[39;49m\u001B[43m(\u001B[49m\u001B[43mendog\u001B[49m\u001B[43m,\u001B[49m\u001B[43m \u001B[49m\u001B[43mexog\u001B[49m\u001B[43m,\u001B[49m\u001B[43m \u001B[49m\u001B[43mmissing\u001B[49m\u001B[38;5;241;43m=\u001B[39;49m\u001B[43mmissing\u001B[49m\u001B[43m,\u001B[49m\n\u001B[0;32m    750\u001B[0m \u001B[43m                          \u001B[49m\u001B[43mweights\u001B[49m\u001B[38;5;241;43m=\u001B[39;49m\u001B[43mweights\u001B[49m\u001B[43m,\u001B[49m\u001B[43m \u001B[49m\u001B[43mhasconst\u001B[49m\u001B[38;5;241;43m=\u001B[39;49m\u001B[43mhasconst\u001B[49m\u001B[43m,\u001B[49m\u001B[43m \u001B[49m\u001B[38;5;241;43m*\u001B[39;49m\u001B[38;5;241;43m*\u001B[39;49m\u001B[43mkwargs\u001B[49m\u001B[43m)\u001B[49m\n\u001B[0;32m    751\u001B[0m nobs \u001B[38;5;241m=\u001B[39m \u001B[38;5;28mself\u001B[39m\u001B[38;5;241m.\u001B[39mexog\u001B[38;5;241m.\u001B[39mshape[\u001B[38;5;241m0\u001B[39m]\n\u001B[0;32m    752\u001B[0m weights \u001B[38;5;241m=\u001B[39m \u001B[38;5;28mself\u001B[39m\u001B[38;5;241m.\u001B[39mweights\n",
      "File \u001B[1;32mD:\\..SKRIPSI\\CALCULATION\\e2e-latency\\.venv\\Lib\\site-packages\\statsmodels\\regression\\linear_model.py:203\u001B[0m, in \u001B[0;36mRegressionModel.__init__\u001B[1;34m(self, endog, exog, **kwargs)\u001B[0m\n\u001B[0;32m    202\u001B[0m \u001B[38;5;28;01mdef\u001B[39;00m \u001B[38;5;21m__init__\u001B[39m(\u001B[38;5;28mself\u001B[39m, endog, exog, \u001B[38;5;241m*\u001B[39m\u001B[38;5;241m*\u001B[39mkwargs):\n\u001B[1;32m--> 203\u001B[0m     \u001B[38;5;28;43msuper\u001B[39;49m\u001B[43m(\u001B[49m\u001B[43m)\u001B[49m\u001B[38;5;241;43m.\u001B[39;49m\u001B[38;5;21;43m__init__\u001B[39;49m\u001B[43m(\u001B[49m\u001B[43mendog\u001B[49m\u001B[43m,\u001B[49m\u001B[43m \u001B[49m\u001B[43mexog\u001B[49m\u001B[43m,\u001B[49m\u001B[43m \u001B[49m\u001B[38;5;241;43m*\u001B[39;49m\u001B[38;5;241;43m*\u001B[39;49m\u001B[43mkwargs\u001B[49m\u001B[43m)\u001B[49m\n\u001B[0;32m    204\u001B[0m     \u001B[38;5;28mself\u001B[39m\u001B[38;5;241m.\u001B[39mpinv_wexog: Float64Array \u001B[38;5;241m|\u001B[39m \u001B[38;5;28;01mNone\u001B[39;00m \u001B[38;5;241m=\u001B[39m \u001B[38;5;28;01mNone\u001B[39;00m\n\u001B[0;32m    205\u001B[0m     \u001B[38;5;28mself\u001B[39m\u001B[38;5;241m.\u001B[39m_data_attr\u001B[38;5;241m.\u001B[39mextend([\u001B[38;5;124m'\u001B[39m\u001B[38;5;124mpinv_wexog\u001B[39m\u001B[38;5;124m'\u001B[39m, \u001B[38;5;124m'\u001B[39m\u001B[38;5;124mwendog\u001B[39m\u001B[38;5;124m'\u001B[39m, \u001B[38;5;124m'\u001B[39m\u001B[38;5;124mwexog\u001B[39m\u001B[38;5;124m'\u001B[39m, \u001B[38;5;124m'\u001B[39m\u001B[38;5;124mweights\u001B[39m\u001B[38;5;124m'\u001B[39m])\n",
      "File \u001B[1;32mD:\\..SKRIPSI\\CALCULATION\\e2e-latency\\.venv\\Lib\\site-packages\\statsmodels\\base\\model.py:270\u001B[0m, in \u001B[0;36mLikelihoodModel.__init__\u001B[1;34m(self, endog, exog, **kwargs)\u001B[0m\n\u001B[0;32m    269\u001B[0m \u001B[38;5;28;01mdef\u001B[39;00m \u001B[38;5;21m__init__\u001B[39m(\u001B[38;5;28mself\u001B[39m, endog, exog\u001B[38;5;241m=\u001B[39m\u001B[38;5;28;01mNone\u001B[39;00m, \u001B[38;5;241m*\u001B[39m\u001B[38;5;241m*\u001B[39mkwargs):\n\u001B[1;32m--> 270\u001B[0m     \u001B[38;5;28;43msuper\u001B[39;49m\u001B[43m(\u001B[49m\u001B[43m)\u001B[49m\u001B[38;5;241;43m.\u001B[39;49m\u001B[38;5;21;43m__init__\u001B[39;49m\u001B[43m(\u001B[49m\u001B[43mendog\u001B[49m\u001B[43m,\u001B[49m\u001B[43m \u001B[49m\u001B[43mexog\u001B[49m\u001B[43m,\u001B[49m\u001B[43m \u001B[49m\u001B[38;5;241;43m*\u001B[39;49m\u001B[38;5;241;43m*\u001B[39;49m\u001B[43mkwargs\u001B[49m\u001B[43m)\u001B[49m\n\u001B[0;32m    271\u001B[0m     \u001B[38;5;28mself\u001B[39m\u001B[38;5;241m.\u001B[39minitialize()\n",
      "File \u001B[1;32mD:\\..SKRIPSI\\CALCULATION\\e2e-latency\\.venv\\Lib\\site-packages\\statsmodels\\base\\model.py:95\u001B[0m, in \u001B[0;36mModel.__init__\u001B[1;34m(self, endog, exog, **kwargs)\u001B[0m\n\u001B[0;32m     93\u001B[0m missing \u001B[38;5;241m=\u001B[39m kwargs\u001B[38;5;241m.\u001B[39mpop(\u001B[38;5;124m'\u001B[39m\u001B[38;5;124mmissing\u001B[39m\u001B[38;5;124m'\u001B[39m, \u001B[38;5;124m'\u001B[39m\u001B[38;5;124mnone\u001B[39m\u001B[38;5;124m'\u001B[39m)\n\u001B[0;32m     94\u001B[0m hasconst \u001B[38;5;241m=\u001B[39m kwargs\u001B[38;5;241m.\u001B[39mpop(\u001B[38;5;124m'\u001B[39m\u001B[38;5;124mhasconst\u001B[39m\u001B[38;5;124m'\u001B[39m, \u001B[38;5;28;01mNone\u001B[39;00m)\n\u001B[1;32m---> 95\u001B[0m \u001B[38;5;28mself\u001B[39m\u001B[38;5;241m.\u001B[39mdata \u001B[38;5;241m=\u001B[39m \u001B[38;5;28;43mself\u001B[39;49m\u001B[38;5;241;43m.\u001B[39;49m\u001B[43m_handle_data\u001B[49m\u001B[43m(\u001B[49m\u001B[43mendog\u001B[49m\u001B[43m,\u001B[49m\u001B[43m \u001B[49m\u001B[43mexog\u001B[49m\u001B[43m,\u001B[49m\u001B[43m \u001B[49m\u001B[43mmissing\u001B[49m\u001B[43m,\u001B[49m\u001B[43m \u001B[49m\u001B[43mhasconst\u001B[49m\u001B[43m,\u001B[49m\n\u001B[0;32m     96\u001B[0m \u001B[43m                              \u001B[49m\u001B[38;5;241;43m*\u001B[39;49m\u001B[38;5;241;43m*\u001B[39;49m\u001B[43mkwargs\u001B[49m\u001B[43m)\u001B[49m\n\u001B[0;32m     97\u001B[0m \u001B[38;5;28mself\u001B[39m\u001B[38;5;241m.\u001B[39mk_constant \u001B[38;5;241m=\u001B[39m \u001B[38;5;28mself\u001B[39m\u001B[38;5;241m.\u001B[39mdata\u001B[38;5;241m.\u001B[39mk_constant\n\u001B[0;32m     98\u001B[0m \u001B[38;5;28mself\u001B[39m\u001B[38;5;241m.\u001B[39mexog \u001B[38;5;241m=\u001B[39m \u001B[38;5;28mself\u001B[39m\u001B[38;5;241m.\u001B[39mdata\u001B[38;5;241m.\u001B[39mexog\n",
      "File \u001B[1;32mD:\\..SKRIPSI\\CALCULATION\\e2e-latency\\.venv\\Lib\\site-packages\\statsmodels\\base\\model.py:135\u001B[0m, in \u001B[0;36mModel._handle_data\u001B[1;34m(self, endog, exog, missing, hasconst, **kwargs)\u001B[0m\n\u001B[0;32m    134\u001B[0m \u001B[38;5;28;01mdef\u001B[39;00m \u001B[38;5;21m_handle_data\u001B[39m(\u001B[38;5;28mself\u001B[39m, endog, exog, missing, hasconst, \u001B[38;5;241m*\u001B[39m\u001B[38;5;241m*\u001B[39mkwargs):\n\u001B[1;32m--> 135\u001B[0m     data \u001B[38;5;241m=\u001B[39m \u001B[43mhandle_data\u001B[49m\u001B[43m(\u001B[49m\u001B[43mendog\u001B[49m\u001B[43m,\u001B[49m\u001B[43m \u001B[49m\u001B[43mexog\u001B[49m\u001B[43m,\u001B[49m\u001B[43m \u001B[49m\u001B[43mmissing\u001B[49m\u001B[43m,\u001B[49m\u001B[43m \u001B[49m\u001B[43mhasconst\u001B[49m\u001B[43m,\u001B[49m\u001B[43m \u001B[49m\u001B[38;5;241;43m*\u001B[39;49m\u001B[38;5;241;43m*\u001B[39;49m\u001B[43mkwargs\u001B[49m\u001B[43m)\u001B[49m\n\u001B[0;32m    136\u001B[0m     \u001B[38;5;66;03m# kwargs arrays could have changed, easier to just attach here\u001B[39;00m\n\u001B[0;32m    137\u001B[0m     \u001B[38;5;28;01mfor\u001B[39;00m key \u001B[38;5;129;01min\u001B[39;00m kwargs:\n",
      "File \u001B[1;32mD:\\..SKRIPSI\\CALCULATION\\e2e-latency\\.venv\\Lib\\site-packages\\statsmodels\\base\\data.py:675\u001B[0m, in \u001B[0;36mhandle_data\u001B[1;34m(endog, exog, missing, hasconst, **kwargs)\u001B[0m\n\u001B[0;32m    672\u001B[0m     exog \u001B[38;5;241m=\u001B[39m np\u001B[38;5;241m.\u001B[39masarray(exog)\n\u001B[0;32m    674\u001B[0m klass \u001B[38;5;241m=\u001B[39m handle_data_class_factory(endog, exog)\n\u001B[1;32m--> 675\u001B[0m \u001B[38;5;28;01mreturn\u001B[39;00m \u001B[43mklass\u001B[49m\u001B[43m(\u001B[49m\u001B[43mendog\u001B[49m\u001B[43m,\u001B[49m\u001B[43m \u001B[49m\u001B[43mexog\u001B[49m\u001B[38;5;241;43m=\u001B[39;49m\u001B[43mexog\u001B[49m\u001B[43m,\u001B[49m\u001B[43m \u001B[49m\u001B[43mmissing\u001B[49m\u001B[38;5;241;43m=\u001B[39;49m\u001B[43mmissing\u001B[49m\u001B[43m,\u001B[49m\u001B[43m \u001B[49m\u001B[43mhasconst\u001B[49m\u001B[38;5;241;43m=\u001B[39;49m\u001B[43mhasconst\u001B[49m\u001B[43m,\u001B[49m\n\u001B[0;32m    676\u001B[0m \u001B[43m             \u001B[49m\u001B[38;5;241;43m*\u001B[39;49m\u001B[38;5;241;43m*\u001B[39;49m\u001B[43mkwargs\u001B[49m\u001B[43m)\u001B[49m\n",
      "File \u001B[1;32mD:\\..SKRIPSI\\CALCULATION\\e2e-latency\\.venv\\Lib\\site-packages\\statsmodels\\base\\data.py:88\u001B[0m, in \u001B[0;36mModelData.__init__\u001B[1;34m(self, endog, exog, missing, hasconst, **kwargs)\u001B[0m\n\u001B[0;32m     86\u001B[0m \u001B[38;5;28mself\u001B[39m\u001B[38;5;241m.\u001B[39mconst_idx \u001B[38;5;241m=\u001B[39m \u001B[38;5;28;01mNone\u001B[39;00m\n\u001B[0;32m     87\u001B[0m \u001B[38;5;28mself\u001B[39m\u001B[38;5;241m.\u001B[39mk_constant \u001B[38;5;241m=\u001B[39m \u001B[38;5;241m0\u001B[39m\n\u001B[1;32m---> 88\u001B[0m \u001B[38;5;28;43mself\u001B[39;49m\u001B[38;5;241;43m.\u001B[39;49m\u001B[43m_handle_constant\u001B[49m\u001B[43m(\u001B[49m\u001B[43mhasconst\u001B[49m\u001B[43m)\u001B[49m\n\u001B[0;32m     89\u001B[0m \u001B[38;5;28mself\u001B[39m\u001B[38;5;241m.\u001B[39m_check_integrity()\n\u001B[0;32m     90\u001B[0m \u001B[38;5;28mself\u001B[39m\u001B[38;5;241m.\u001B[39m_cache \u001B[38;5;241m=\u001B[39m {}\n",
      "File \u001B[1;32mD:\\..SKRIPSI\\CALCULATION\\e2e-latency\\.venv\\Lib\\site-packages\\statsmodels\\base\\data.py:133\u001B[0m, in \u001B[0;36mModelData._handle_constant\u001B[1;34m(self, hasconst)\u001B[0m\n\u001B[0;32m    131\u001B[0m check_implicit \u001B[38;5;241m=\u001B[39m \u001B[38;5;28;01mFalse\u001B[39;00m\n\u001B[0;32m    132\u001B[0m exog_max \u001B[38;5;241m=\u001B[39m np\u001B[38;5;241m.\u001B[39mmax(\u001B[38;5;28mself\u001B[39m\u001B[38;5;241m.\u001B[39mexog, axis\u001B[38;5;241m=\u001B[39m\u001B[38;5;241m0\u001B[39m)\n\u001B[1;32m--> 133\u001B[0m \u001B[38;5;28;01mif\u001B[39;00m \u001B[38;5;129;01mnot\u001B[39;00m \u001B[43mnp\u001B[49m\u001B[38;5;241;43m.\u001B[39;49m\u001B[43misfinite\u001B[49m\u001B[43m(\u001B[49m\u001B[43mexog_max\u001B[49m\u001B[43m)\u001B[49m\u001B[38;5;241m.\u001B[39mall():\n\u001B[0;32m    134\u001B[0m     \u001B[38;5;28;01mraise\u001B[39;00m MissingDataError(\u001B[38;5;124m'\u001B[39m\u001B[38;5;124mexog contains inf or nans\u001B[39m\u001B[38;5;124m'\u001B[39m)\n\u001B[0;32m    135\u001B[0m exog_min \u001B[38;5;241m=\u001B[39m np\u001B[38;5;241m.\u001B[39mmin(\u001B[38;5;28mself\u001B[39m\u001B[38;5;241m.\u001B[39mexog, axis\u001B[38;5;241m=\u001B[39m\u001B[38;5;241m0\u001B[39m)\n",
      "\u001B[1;31mTypeError\u001B[0m: ufunc 'isfinite' not supported for the input types, and the inputs could not be safely coerced to any supported types according to the casting rule ''safe''"
     ]
    }
   ],
   "source": [
    "import pandas as pd\n",
    "import numpy as np\n",
    "from scipy.stats import boxcox, shapiro\n",
    "from statsmodels.formula.api import ols\n",
    "import statsmodels.api as sm\n",
    "\n",
    "# Baca data dari CSV\n",
    "df = pd.read_csv('./combined_data_throughput.csv')\n",
    "\n",
    "# Pastikan kolom Throughput memiliki tipe data numerik\n",
    "df['Throughput'] = pd.to_numeric(df['Throughput'], errors='coerce')\n",
    "\n",
    "# Periksa apakah ada nilai nol atau negatif dalam Throughput\n",
    "if (df['Throughput'] <= 0).any():\n",
    "    print(\"Data contains non-positive values. Please check the data.\")\n",
    "else:\n",
    "    # Terapkan transformasi Box-Cox\n",
    "    df['Throughput_boxcox'], _ = boxcox(df['Throughput'] + 1)  # Menambahkan 1 untuk menghindari masalah dengan nilai 0\n",
    "\n",
    "    # Lakukan uji Shapiro-Wilk lagi pada data yang telah ditransformasi\n",
    "    shapiro_test_boxcox = shapiro(df['Throughput_boxcox'])\n",
    "    print('Shapiro-Wilk test (Box-Cox-transformed):', shapiro_test_boxcox)\n",
    "\n",
    "    # Memeriksa multikollinearitas\n",
    "    print(\"Variance Inflation Factor (VIF):\")\n",
    "    from statsmodels.stats.outliers_influence import variance_inflation_factor\n",
    "    from statsmodels.tools.tools import add_constant\n",
    "\n",
    "    X = add_constant(pd.get_dummies(df[['Broker', 'Requests']], drop_first=True))\n",
    "    vif_data = pd.DataFrame()\n",
    "    vif_data[\"feature\"] = X.columns\n",
    "    vif_data[\"VIF\"] = [variance_inflation_factor(X.values, i) for i in range(X.shape[1])]\n",
    "    print(vif_data)\n",
    "\n",
    "    # Siapkan model ANOVA dua arah dengan data yang telah ditransformasi\n",
    "    try:\n",
    "        model = ols('Throughput_boxcox ~ C(Broker) + C(Requests) + C(Broker):C(Requests)', data=df).fit()\n",
    "\n",
    "        # Hitung tabel ANOVA\n",
    "        anova_table = sm.stats.anova_lm(model, typ=2)\n",
    "\n",
    "        # Tampilkan tabel ANOVA\n",
    "        print(anova_table)\n",
    "    except Exception as e:\n",
    "        print(\"Error fitting model:\", e)\n"
   ],
   "metadata": {
    "collapsed": false,
    "ExecuteTime": {
     "end_time": "2024-08-05T14:47:17.049587800Z",
     "start_time": "2024-08-05T14:47:16.947945600Z"
    }
   },
   "id": "fea53654d3675778",
   "execution_count": 58
  },
  {
   "cell_type": "code",
   "outputs": [
    {
     "name": "stdout",
     "output_type": "stream",
     "text": [
      "Shapiro-Wilk test (Box-Cox-transformed): ShapiroResult(statistic=np.float64(0.973152919639874), pvalue=np.float64(0.8867276731398035))\n"
     ]
    },
    {
     "name": "stderr",
     "output_type": "stream",
     "text": [
      "D:\\..SKRIPSI\\CALCULATION\\e2e-latency\\.venv\\Lib\\site-packages\\statsmodels\\regression\\linear_model.py:1718: RuntimeWarning: divide by zero encountered in scalar divide\n",
      "  return np.dot(wresid, wresid) / self.df_resid\n"
     ]
    },
    {
     "ename": "ValueError",
     "evalue": "array must not contain infs or NaNs",
     "output_type": "error",
     "traceback": [
      "\u001B[1;31m---------------------------------------------------------------------------\u001B[0m",
      "\u001B[1;31mValueError\u001B[0m                                Traceback (most recent call last)",
      "Cell \u001B[1;32mIn[63], line 33\u001B[0m\n\u001B[0;32m     30\u001B[0m model \u001B[38;5;241m=\u001B[39m ols(\u001B[38;5;124m'\u001B[39m\u001B[38;5;124mThroughput_boxcox ~ C(Broker) + C(Requests) + C(Broker):C(Requests)\u001B[39m\u001B[38;5;124m'\u001B[39m, data\u001B[38;5;241m=\u001B[39mdf)\u001B[38;5;241m.\u001B[39mfit()\n\u001B[0;32m     32\u001B[0m \u001B[38;5;66;03m# Hitung tabel ANOVA\u001B[39;00m\n\u001B[1;32m---> 33\u001B[0m anova_table \u001B[38;5;241m=\u001B[39m \u001B[43msm\u001B[49m\u001B[38;5;241;43m.\u001B[39;49m\u001B[43mstats\u001B[49m\u001B[38;5;241;43m.\u001B[39;49m\u001B[43manova_lm\u001B[49m\u001B[43m(\u001B[49m\u001B[43mmodel\u001B[49m\u001B[43m,\u001B[49m\u001B[43m \u001B[49m\u001B[43mtyp\u001B[49m\u001B[38;5;241;43m=\u001B[39;49m\u001B[38;5;241;43m2\u001B[39;49m\u001B[43m)\u001B[49m\n\u001B[0;32m     35\u001B[0m \u001B[38;5;66;03m# Tampilkan tabel ANOVA\u001B[39;00m\n\u001B[0;32m     36\u001B[0m \u001B[38;5;28mprint\u001B[39m(anova_table)\n",
      "File \u001B[1;32mD:\\..SKRIPSI\\CALCULATION\\e2e-latency\\.venv\\Lib\\site-packages\\statsmodels\\stats\\anova.py:353\u001B[0m, in \u001B[0;36manova_lm\u001B[1;34m(*args, **kwargs)\u001B[0m\n\u001B[0;32m    351\u001B[0m \u001B[38;5;28;01mif\u001B[39;00m \u001B[38;5;28mlen\u001B[39m(args) \u001B[38;5;241m==\u001B[39m \u001B[38;5;241m1\u001B[39m:\n\u001B[0;32m    352\u001B[0m     model \u001B[38;5;241m=\u001B[39m args[\u001B[38;5;241m0\u001B[39m]\n\u001B[1;32m--> 353\u001B[0m     \u001B[38;5;28;01mreturn\u001B[39;00m \u001B[43manova_single\u001B[49m\u001B[43m(\u001B[49m\u001B[43mmodel\u001B[49m\u001B[43m,\u001B[49m\u001B[43m \u001B[49m\u001B[38;5;241;43m*\u001B[39;49m\u001B[38;5;241;43m*\u001B[39;49m\u001B[43mkwargs\u001B[49m\u001B[43m)\u001B[49m\n\u001B[0;32m    355\u001B[0m \u001B[38;5;28;01mif\u001B[39;00m typ \u001B[38;5;129;01mnot\u001B[39;00m \u001B[38;5;129;01min\u001B[39;00m [\u001B[38;5;241m1\u001B[39m, \u001B[38;5;124m\"\u001B[39m\u001B[38;5;124mI\u001B[39m\u001B[38;5;124m\"\u001B[39m]:\n\u001B[0;32m    356\u001B[0m     \u001B[38;5;28;01mraise\u001B[39;00m \u001B[38;5;167;01mValueError\u001B[39;00m(\u001B[38;5;124m\"\u001B[39m\u001B[38;5;124mMultiple models only supported for type I. \u001B[39m\u001B[38;5;124m\"\u001B[39m\n\u001B[0;32m    357\u001B[0m                      \u001B[38;5;124m\"\u001B[39m\u001B[38;5;124mGot type \u001B[39m\u001B[38;5;132;01m%s\u001B[39;00m\u001B[38;5;124m\"\u001B[39m \u001B[38;5;241m%\u001B[39m \u001B[38;5;28mstr\u001B[39m(typ))\n",
      "File \u001B[1;32mD:\\..SKRIPSI\\CALCULATION\\e2e-latency\\.venv\\Lib\\site-packages\\statsmodels\\stats\\anova.py:84\u001B[0m, in \u001B[0;36manova_single\u001B[1;34m(model, **kwargs)\u001B[0m\n\u001B[0;32m     81\u001B[0m     \u001B[38;5;28;01mreturn\u001B[39;00m anova1_lm_single(model, endog, exog, nobs, design_info, table,\n\u001B[0;32m     82\u001B[0m                             n_rows, test, pr_test, robust)\n\u001B[0;32m     83\u001B[0m \u001B[38;5;28;01melif\u001B[39;00m typ \u001B[38;5;129;01min\u001B[39;00m [\u001B[38;5;241m2\u001B[39m, \u001B[38;5;124m\"\u001B[39m\u001B[38;5;124mII\u001B[39m\u001B[38;5;124m\"\u001B[39m]:\n\u001B[1;32m---> 84\u001B[0m     \u001B[38;5;28;01mreturn\u001B[39;00m \u001B[43manova2_lm_single\u001B[49m\u001B[43m(\u001B[49m\u001B[43mmodel\u001B[49m\u001B[43m,\u001B[49m\u001B[43m \u001B[49m\u001B[43mdesign_info\u001B[49m\u001B[43m,\u001B[49m\u001B[43m \u001B[49m\u001B[43mn_rows\u001B[49m\u001B[43m,\u001B[49m\u001B[43m \u001B[49m\u001B[43mtest\u001B[49m\u001B[43m,\u001B[49m\u001B[43m \u001B[49m\u001B[43mpr_test\u001B[49m\u001B[43m,\u001B[49m\n\u001B[0;32m     85\u001B[0m \u001B[43m                            \u001B[49m\u001B[43mrobust\u001B[49m\u001B[43m)\u001B[49m\n\u001B[0;32m     86\u001B[0m \u001B[38;5;28;01melif\u001B[39;00m typ \u001B[38;5;129;01min\u001B[39;00m [\u001B[38;5;241m3\u001B[39m, \u001B[38;5;124m\"\u001B[39m\u001B[38;5;124mIII\u001B[39m\u001B[38;5;124m\"\u001B[39m]:\n\u001B[0;32m     87\u001B[0m     \u001B[38;5;28;01mreturn\u001B[39;00m anova3_lm_single(model, design_info, n_rows, test, pr_test,\n\u001B[0;32m     88\u001B[0m                             robust)\n",
      "File \u001B[1;32mD:\\..SKRIPSI\\CALCULATION\\e2e-latency\\.venv\\Lib\\site-packages\\statsmodels\\stats\\anova.py:207\u001B[0m, in \u001B[0;36manova2_lm_single\u001B[1;34m(model, design_info, n_rows, test, pr_test, robust)\u001B[0m\n\u001B[0;32m    205\u001B[0m LVL \u001B[38;5;241m=\u001B[39m np\u001B[38;5;241m.\u001B[39mdot(np\u001B[38;5;241m.\u001B[39mdot(L1,robust_cov),L2\u001B[38;5;241m.\u001B[39mT)\n\u001B[0;32m    206\u001B[0m \u001B[38;5;28;01mfrom\u001B[39;00m \u001B[38;5;21;01mscipy\u001B[39;00m \u001B[38;5;28;01mimport\u001B[39;00m linalg\n\u001B[1;32m--> 207\u001B[0m orth_compl,_ \u001B[38;5;241m=\u001B[39m \u001B[43mlinalg\u001B[49m\u001B[38;5;241;43m.\u001B[39;49m\u001B[43mqr\u001B[49m\u001B[43m(\u001B[49m\u001B[43mLVL\u001B[49m\u001B[43m)\u001B[49m\n\u001B[0;32m    208\u001B[0m r \u001B[38;5;241m=\u001B[39m L1\u001B[38;5;241m.\u001B[39mshape[\u001B[38;5;241m0\u001B[39m] \u001B[38;5;241m-\u001B[39m L2\u001B[38;5;241m.\u001B[39mshape[\u001B[38;5;241m0\u001B[39m]\n\u001B[0;32m    209\u001B[0m \u001B[38;5;66;03m# L1|2\u001B[39;00m\n\u001B[0;32m    210\u001B[0m \u001B[38;5;66;03m# use the non-unique orthogonal completion since L12 is rank r\u001B[39;00m\n",
      "File \u001B[1;32mD:\\..SKRIPSI\\CALCULATION\\e2e-latency\\.venv\\Lib\\site-packages\\scipy\\linalg\\_decomp_qr.py:129\u001B[0m, in \u001B[0;36mqr\u001B[1;34m(a, overwrite_a, lwork, mode, pivoting, check_finite)\u001B[0m\n\u001B[0;32m    125\u001B[0m     \u001B[38;5;28;01mraise\u001B[39;00m \u001B[38;5;167;01mValueError\u001B[39;00m(\u001B[38;5;124m\"\u001B[39m\u001B[38;5;124mMode argument should be one of [\u001B[39m\u001B[38;5;124m'\u001B[39m\u001B[38;5;124mfull\u001B[39m\u001B[38;5;124m'\u001B[39m\u001B[38;5;124m, \u001B[39m\u001B[38;5;124m'\u001B[39m\u001B[38;5;124mr\u001B[39m\u001B[38;5;124m'\u001B[39m\u001B[38;5;124m, \u001B[39m\u001B[38;5;124m\"\u001B[39m\n\u001B[0;32m    126\u001B[0m                      \u001B[38;5;124m\"\u001B[39m\u001B[38;5;124m'\u001B[39m\u001B[38;5;124meconomic\u001B[39m\u001B[38;5;124m'\u001B[39m\u001B[38;5;124m, \u001B[39m\u001B[38;5;124m'\u001B[39m\u001B[38;5;124mraw\u001B[39m\u001B[38;5;124m'\u001B[39m\u001B[38;5;124m]\u001B[39m\u001B[38;5;124m\"\u001B[39m)\n\u001B[0;32m    128\u001B[0m \u001B[38;5;28;01mif\u001B[39;00m check_finite:\n\u001B[1;32m--> 129\u001B[0m     a1 \u001B[38;5;241m=\u001B[39m \u001B[43mnp\u001B[49m\u001B[38;5;241;43m.\u001B[39;49m\u001B[43masarray_chkfinite\u001B[49m\u001B[43m(\u001B[49m\u001B[43ma\u001B[49m\u001B[43m)\u001B[49m\n\u001B[0;32m    130\u001B[0m \u001B[38;5;28;01melse\u001B[39;00m:\n\u001B[0;32m    131\u001B[0m     a1 \u001B[38;5;241m=\u001B[39m np\u001B[38;5;241m.\u001B[39masarray(a)\n",
      "File \u001B[1;32mD:\\..SKRIPSI\\CALCULATION\\e2e-latency\\.venv\\Lib\\site-packages\\numpy\\lib\\_function_base_impl.py:649\u001B[0m, in \u001B[0;36masarray_chkfinite\u001B[1;34m(a, dtype, order)\u001B[0m\n\u001B[0;32m    647\u001B[0m a \u001B[38;5;241m=\u001B[39m asarray(a, dtype\u001B[38;5;241m=\u001B[39mdtype, order\u001B[38;5;241m=\u001B[39morder)\n\u001B[0;32m    648\u001B[0m \u001B[38;5;28;01mif\u001B[39;00m a\u001B[38;5;241m.\u001B[39mdtype\u001B[38;5;241m.\u001B[39mchar \u001B[38;5;129;01min\u001B[39;00m typecodes[\u001B[38;5;124m'\u001B[39m\u001B[38;5;124mAllFloat\u001B[39m\u001B[38;5;124m'\u001B[39m] \u001B[38;5;129;01mand\u001B[39;00m \u001B[38;5;129;01mnot\u001B[39;00m np\u001B[38;5;241m.\u001B[39misfinite(a)\u001B[38;5;241m.\u001B[39mall():\n\u001B[1;32m--> 649\u001B[0m     \u001B[38;5;28;01mraise\u001B[39;00m \u001B[38;5;167;01mValueError\u001B[39;00m(\n\u001B[0;32m    650\u001B[0m         \u001B[38;5;124m\"\u001B[39m\u001B[38;5;124marray must not contain infs or NaNs\u001B[39m\u001B[38;5;124m\"\u001B[39m)\n\u001B[0;32m    651\u001B[0m \u001B[38;5;28;01mreturn\u001B[39;00m a\n",
      "\u001B[1;31mValueError\u001B[0m: array must not contain infs or NaNs"
     ]
    }
   ],
   "source": [
    "import pandas as pd\n",
    "import numpy as np\n",
    "from scipy.stats import boxcox, shapiro\n",
    "from statsmodels.formula.api import ols\n",
    "import statsmodels.api as sm\n",
    "\n",
    "# Data sampel kecil\n",
    "data = {\n",
    "    'Requests': [3, 6, 30, 60, 300, 600, 3000, 6000] * 2,  # Mengulang Requests untuk Kafka dan NATS\n",
    "    'Broker': ['Kafka'] * 8 + ['NATS'] * 8,  # Jenis Broker\n",
    "    'Throughput': [\n",
    "        # Throughput untuk Kafka\n",
    "        113.38, 123.66, 125.62, 126.88, 132.3, 129.73, 137.92, 141.38,\n",
    "        # Throughput untuk NATS\n",
    "        65.1, 114.69, 116.78, 110.55, 133.46, 128.69, 133.85, 141.64\n",
    "    ]\n",
    "}\n",
    "\n",
    "# Membuat DataFrame dari data\n",
    "df = pd.DataFrame(data)\n",
    "\n",
    "# Transformasi Box-Cox untuk normalitas\n",
    "df['Throughput_boxcox'], _ = boxcox(df['Throughput'] + 1)  # Menambahkan 1 untuk menghindari log(0)\n",
    "\n",
    "# Uji normalitas setelah transformasi\n",
    "shapiro_test = shapiro(df['Throughput_boxcox'])\n",
    "print(f\"Shapiro-Wilk test (Box-Cox-transformed): {shapiro_test}\")\n",
    "\n",
    "# Siapkan model ANOVA dua arah dengan data yang telah ditransformasi\n",
    "model = ols('Throughput_boxcox ~ C(Broker) + C(Requests) + C(Broker):C(Requests)', data=df).fit()\n",
    "\n",
    "# Hitung tabel ANOVA\n",
    "anova_table = sm.stats.anova_lm(model, typ=2)\n",
    "\n",
    "# Tampilkan tabel ANOVA\n",
    "print(anova_table)\n"
   ],
   "metadata": {
    "collapsed": false,
    "ExecuteTime": {
     "end_time": "2024-08-05T14:52:59.632813900Z",
     "start_time": "2024-08-05T14:52:59.266326400Z"
    }
   },
   "id": "cba705843a629d3",
   "execution_count": 63
  },
  {
   "cell_type": "code",
   "outputs": [
    {
     "name": "stdout",
     "output_type": "stream",
     "text": [
      "    Requests Broker  Throughput\n",
      "0          3  Kafka      113.38\n",
      "1          6  Kafka      123.66\n",
      "2         30  Kafka      125.62\n",
      "3         60  Kafka      126.88\n",
      "4        300  Kafka      132.30\n",
      "5        600  Kafka      129.73\n",
      "6       3000  Kafka      137.92\n",
      "7       6000  Kafka      141.38\n",
      "8          3   NATS       65.10\n",
      "9          6   NATS      114.69\n",
      "10        30   NATS      116.78\n",
      "11        60   NATS      110.55\n",
      "12       300   NATS      133.46\n",
      "13       600   NATS      128.69\n",
      "14      3000   NATS      133.85\n",
      "15      6000   NATS      141.64\n",
      "Shapiro-Wilk test (sqrt-transformed data): ShapiroResult(statistic=np.float64(0.7210146256136749), pvalue=np.float64(0.0002903903365706178))\n",
      "Shapiro-Wilk test (log-transformed data): ShapiroResult(statistic=np.float64(0.6685706124215423), pvalue=np.float64(7.760822109759254e-05))\n",
      "Shapiro-Wilk test (log-transformed data): ShapiroResult(statistic=np.float64(0.973152919639874), pvalue=np.float64(0.8867276731398035))\n",
      "Requests             0\n",
      "Broker               0\n",
      "Throughput           0\n",
      "Throughput_log       0\n",
      "Throughput_sqrt      0\n",
      "Throughput_BoxCox    0\n",
      "dtype: int64\n",
      "Requests             0\n",
      "Broker               0\n",
      "Throughput           0\n",
      "Throughput_log       0\n",
      "Throughput_sqrt      0\n",
      "Throughput_BoxCox    0\n",
      "dtype: int64\n",
      "        Requests  Throughput  Throughput_log  Throughput_sqrt  \\\n",
      "count  16.000000   16.000000       16.000000        16.000000   \n",
      "mean    0.207916  123.476875        4.810738        11.077035   \n",
      "std     0.349550   18.304081        0.181874         0.909898   \n",
      "min     0.000000   65.100000        4.191169         8.068457   \n",
      "25%     0.003502  116.257500        4.764342        10.782195   \n",
      "50%     0.029515  127.785000        4.858120        11.304132   \n",
      "75%     0.199600  133.557500        4.901991        11.556706   \n",
      "max     1.000000  141.640000        4.960324        11.901260   \n",
      "\n",
      "       Throughput_BoxCox  \n",
      "count       1.600000e+01  \n",
      "mean        5.043274e+09  \n",
      "std         2.276478e+09  \n",
      "min         1.927921e+08  \n",
      "25%         3.260109e+09  \n",
      "50%         5.176855e+09  \n",
      "75%         6.423809e+09  \n",
      "max         8.565314e+09  \n",
      "    Requests Broker  Throughput  Throughput_log  Throughput_sqrt  \\\n",
      "0   0.000000  Kafka      113.38        4.739526        10.648005   \n",
      "1   0.000500  Kafka      123.66        4.825590        11.120252   \n",
      "2   0.004502  Kafka      125.62        4.841190        11.208033   \n",
      "3   0.009505  Kafka      126.88        4.851092        11.264102   \n",
      "4   0.049525  Kafka      132.30        4.892602        11.502174   \n",
      "5   0.099550  Kafka      129.73        4.873134        11.389908   \n",
      "6   0.499750  Kafka      137.92        4.933898        11.743935   \n",
      "7   1.000000  Kafka      141.38        4.958500        11.890332   \n",
      "8   0.000000   NATS       65.10        4.191169         8.068457   \n",
      "9   0.000500   NATS      114.69        4.750914        10.709342   \n",
      "10  0.004502   NATS      116.78        4.768818        10.806480   \n",
      "11  0.009505   NATS      110.55        4.714473        10.514276   \n",
      "12  0.049525   NATS      133.46        4.901267        11.552489   \n",
      "13  0.099550   NATS      128.69        4.865147        11.344161   \n",
      "14  0.499750   NATS      133.85        4.904163        11.569356   \n",
      "15  1.000000   NATS      141.64        4.960324        11.901260   \n",
      "\n",
      "    Throughput_BoxCox  \n",
      "0        2.882432e+09  \n",
      "1        4.406781e+09  \n",
      "2        4.759268e+09  \n",
      "3        4.997485e+09  \n",
      "4        6.132992e+09  \n",
      "5        5.571455e+09  \n",
      "6        7.518567e+09  \n",
      "7        8.488580e+09  \n",
      "8        1.927921e+08  \n",
      "9        3.048975e+09  \n",
      "10       3.330487e+09  \n",
      "11       2.547363e+09  \n",
      "12       6.400785e+09  \n",
      "13       5.356226e+09  \n",
      "14       6.492883e+09  \n",
      "15       8.565314e+09  \n"
     ]
    },
    {
     "name": "stderr",
     "output_type": "stream",
     "text": [
      "D:\\..SKRIPSI\\CALCULATION\\e2e-latency\\.venv\\Lib\\site-packages\\statsmodels\\regression\\linear_model.py:1718: RuntimeWarning: divide by zero encountered in scalar divide\n",
      "  return np.dot(wresid, wresid) / self.df_resid\n"
     ]
    },
    {
     "ename": "ValueError",
     "evalue": "array must not contain infs or NaNs",
     "output_type": "error",
     "traceback": [
      "\u001B[1;31m---------------------------------------------------------------------------\u001B[0m",
      "\u001B[1;31mValueError\u001B[0m                                Traceback (most recent call last)",
      "Cell \u001B[1;32mIn[107], line 54\u001B[0m\n\u001B[0;32m     51\u001B[0m model \u001B[38;5;241m=\u001B[39m ols(\u001B[38;5;124m'\u001B[39m\u001B[38;5;124mThroughput_BoxCox ~ C(Broker) + C(Requests) + C(Broker):C(Requests)\u001B[39m\u001B[38;5;124m'\u001B[39m, data\u001B[38;5;241m=\u001B[39mdf)\u001B[38;5;241m.\u001B[39mfit()\n\u001B[0;32m     53\u001B[0m \u001B[38;5;66;03m# Hitung tabel ANOVA\u001B[39;00m\n\u001B[1;32m---> 54\u001B[0m anova_table \u001B[38;5;241m=\u001B[39m \u001B[43msm\u001B[49m\u001B[38;5;241;43m.\u001B[39;49m\u001B[43mstats\u001B[49m\u001B[38;5;241;43m.\u001B[39;49m\u001B[43manova_lm\u001B[49m\u001B[43m(\u001B[49m\u001B[43mmodel\u001B[49m\u001B[43m,\u001B[49m\u001B[43m \u001B[49m\u001B[43mtyp\u001B[49m\u001B[38;5;241;43m=\u001B[39;49m\u001B[38;5;241;43m2\u001B[39;49m\u001B[43m)\u001B[49m\n",
      "File \u001B[1;32mD:\\..SKRIPSI\\CALCULATION\\e2e-latency\\.venv\\Lib\\site-packages\\statsmodels\\stats\\anova.py:353\u001B[0m, in \u001B[0;36manova_lm\u001B[1;34m(*args, **kwargs)\u001B[0m\n\u001B[0;32m    351\u001B[0m \u001B[38;5;28;01mif\u001B[39;00m \u001B[38;5;28mlen\u001B[39m(args) \u001B[38;5;241m==\u001B[39m \u001B[38;5;241m1\u001B[39m:\n\u001B[0;32m    352\u001B[0m     model \u001B[38;5;241m=\u001B[39m args[\u001B[38;5;241m0\u001B[39m]\n\u001B[1;32m--> 353\u001B[0m     \u001B[38;5;28;01mreturn\u001B[39;00m \u001B[43manova_single\u001B[49m\u001B[43m(\u001B[49m\u001B[43mmodel\u001B[49m\u001B[43m,\u001B[49m\u001B[43m \u001B[49m\u001B[38;5;241;43m*\u001B[39;49m\u001B[38;5;241;43m*\u001B[39;49m\u001B[43mkwargs\u001B[49m\u001B[43m)\u001B[49m\n\u001B[0;32m    355\u001B[0m \u001B[38;5;28;01mif\u001B[39;00m typ \u001B[38;5;129;01mnot\u001B[39;00m \u001B[38;5;129;01min\u001B[39;00m [\u001B[38;5;241m1\u001B[39m, \u001B[38;5;124m\"\u001B[39m\u001B[38;5;124mI\u001B[39m\u001B[38;5;124m\"\u001B[39m]:\n\u001B[0;32m    356\u001B[0m     \u001B[38;5;28;01mraise\u001B[39;00m \u001B[38;5;167;01mValueError\u001B[39;00m(\u001B[38;5;124m\"\u001B[39m\u001B[38;5;124mMultiple models only supported for type I. \u001B[39m\u001B[38;5;124m\"\u001B[39m\n\u001B[0;32m    357\u001B[0m                      \u001B[38;5;124m\"\u001B[39m\u001B[38;5;124mGot type \u001B[39m\u001B[38;5;132;01m%s\u001B[39;00m\u001B[38;5;124m\"\u001B[39m \u001B[38;5;241m%\u001B[39m \u001B[38;5;28mstr\u001B[39m(typ))\n",
      "File \u001B[1;32mD:\\..SKRIPSI\\CALCULATION\\e2e-latency\\.venv\\Lib\\site-packages\\statsmodels\\stats\\anova.py:84\u001B[0m, in \u001B[0;36manova_single\u001B[1;34m(model, **kwargs)\u001B[0m\n\u001B[0;32m     81\u001B[0m     \u001B[38;5;28;01mreturn\u001B[39;00m anova1_lm_single(model, endog, exog, nobs, design_info, table,\n\u001B[0;32m     82\u001B[0m                             n_rows, test, pr_test, robust)\n\u001B[0;32m     83\u001B[0m \u001B[38;5;28;01melif\u001B[39;00m typ \u001B[38;5;129;01min\u001B[39;00m [\u001B[38;5;241m2\u001B[39m, \u001B[38;5;124m\"\u001B[39m\u001B[38;5;124mII\u001B[39m\u001B[38;5;124m\"\u001B[39m]:\n\u001B[1;32m---> 84\u001B[0m     \u001B[38;5;28;01mreturn\u001B[39;00m \u001B[43manova2_lm_single\u001B[49m\u001B[43m(\u001B[49m\u001B[43mmodel\u001B[49m\u001B[43m,\u001B[49m\u001B[43m \u001B[49m\u001B[43mdesign_info\u001B[49m\u001B[43m,\u001B[49m\u001B[43m \u001B[49m\u001B[43mn_rows\u001B[49m\u001B[43m,\u001B[49m\u001B[43m \u001B[49m\u001B[43mtest\u001B[49m\u001B[43m,\u001B[49m\u001B[43m \u001B[49m\u001B[43mpr_test\u001B[49m\u001B[43m,\u001B[49m\n\u001B[0;32m     85\u001B[0m \u001B[43m                            \u001B[49m\u001B[43mrobust\u001B[49m\u001B[43m)\u001B[49m\n\u001B[0;32m     86\u001B[0m \u001B[38;5;28;01melif\u001B[39;00m typ \u001B[38;5;129;01min\u001B[39;00m [\u001B[38;5;241m3\u001B[39m, \u001B[38;5;124m\"\u001B[39m\u001B[38;5;124mIII\u001B[39m\u001B[38;5;124m\"\u001B[39m]:\n\u001B[0;32m     87\u001B[0m     \u001B[38;5;28;01mreturn\u001B[39;00m anova3_lm_single(model, design_info, n_rows, test, pr_test,\n\u001B[0;32m     88\u001B[0m                             robust)\n",
      "File \u001B[1;32mD:\\..SKRIPSI\\CALCULATION\\e2e-latency\\.venv\\Lib\\site-packages\\statsmodels\\stats\\anova.py:207\u001B[0m, in \u001B[0;36manova2_lm_single\u001B[1;34m(model, design_info, n_rows, test, pr_test, robust)\u001B[0m\n\u001B[0;32m    205\u001B[0m LVL \u001B[38;5;241m=\u001B[39m np\u001B[38;5;241m.\u001B[39mdot(np\u001B[38;5;241m.\u001B[39mdot(L1,robust_cov),L2\u001B[38;5;241m.\u001B[39mT)\n\u001B[0;32m    206\u001B[0m \u001B[38;5;28;01mfrom\u001B[39;00m \u001B[38;5;21;01mscipy\u001B[39;00m \u001B[38;5;28;01mimport\u001B[39;00m linalg\n\u001B[1;32m--> 207\u001B[0m orth_compl,_ \u001B[38;5;241m=\u001B[39m \u001B[43mlinalg\u001B[49m\u001B[38;5;241;43m.\u001B[39;49m\u001B[43mqr\u001B[49m\u001B[43m(\u001B[49m\u001B[43mLVL\u001B[49m\u001B[43m)\u001B[49m\n\u001B[0;32m    208\u001B[0m r \u001B[38;5;241m=\u001B[39m L1\u001B[38;5;241m.\u001B[39mshape[\u001B[38;5;241m0\u001B[39m] \u001B[38;5;241m-\u001B[39m L2\u001B[38;5;241m.\u001B[39mshape[\u001B[38;5;241m0\u001B[39m]\n\u001B[0;32m    209\u001B[0m \u001B[38;5;66;03m# L1|2\u001B[39;00m\n\u001B[0;32m    210\u001B[0m \u001B[38;5;66;03m# use the non-unique orthogonal completion since L12 is rank r\u001B[39;00m\n",
      "File \u001B[1;32mD:\\..SKRIPSI\\CALCULATION\\e2e-latency\\.venv\\Lib\\site-packages\\scipy\\linalg\\_decomp_qr.py:129\u001B[0m, in \u001B[0;36mqr\u001B[1;34m(a, overwrite_a, lwork, mode, pivoting, check_finite)\u001B[0m\n\u001B[0;32m    125\u001B[0m     \u001B[38;5;28;01mraise\u001B[39;00m \u001B[38;5;167;01mValueError\u001B[39;00m(\u001B[38;5;124m\"\u001B[39m\u001B[38;5;124mMode argument should be one of [\u001B[39m\u001B[38;5;124m'\u001B[39m\u001B[38;5;124mfull\u001B[39m\u001B[38;5;124m'\u001B[39m\u001B[38;5;124m, \u001B[39m\u001B[38;5;124m'\u001B[39m\u001B[38;5;124mr\u001B[39m\u001B[38;5;124m'\u001B[39m\u001B[38;5;124m, \u001B[39m\u001B[38;5;124m\"\u001B[39m\n\u001B[0;32m    126\u001B[0m                      \u001B[38;5;124m\"\u001B[39m\u001B[38;5;124m'\u001B[39m\u001B[38;5;124meconomic\u001B[39m\u001B[38;5;124m'\u001B[39m\u001B[38;5;124m, \u001B[39m\u001B[38;5;124m'\u001B[39m\u001B[38;5;124mraw\u001B[39m\u001B[38;5;124m'\u001B[39m\u001B[38;5;124m]\u001B[39m\u001B[38;5;124m\"\u001B[39m)\n\u001B[0;32m    128\u001B[0m \u001B[38;5;28;01mif\u001B[39;00m check_finite:\n\u001B[1;32m--> 129\u001B[0m     a1 \u001B[38;5;241m=\u001B[39m \u001B[43mnp\u001B[49m\u001B[38;5;241;43m.\u001B[39;49m\u001B[43masarray_chkfinite\u001B[49m\u001B[43m(\u001B[49m\u001B[43ma\u001B[49m\u001B[43m)\u001B[49m\n\u001B[0;32m    130\u001B[0m \u001B[38;5;28;01melse\u001B[39;00m:\n\u001B[0;32m    131\u001B[0m     a1 \u001B[38;5;241m=\u001B[39m np\u001B[38;5;241m.\u001B[39masarray(a)\n",
      "File \u001B[1;32mD:\\..SKRIPSI\\CALCULATION\\e2e-latency\\.venv\\Lib\\site-packages\\numpy\\lib\\_function_base_impl.py:649\u001B[0m, in \u001B[0;36masarray_chkfinite\u001B[1;34m(a, dtype, order)\u001B[0m\n\u001B[0;32m    647\u001B[0m a \u001B[38;5;241m=\u001B[39m asarray(a, dtype\u001B[38;5;241m=\u001B[39mdtype, order\u001B[38;5;241m=\u001B[39morder)\n\u001B[0;32m    648\u001B[0m \u001B[38;5;28;01mif\u001B[39;00m a\u001B[38;5;241m.\u001B[39mdtype\u001B[38;5;241m.\u001B[39mchar \u001B[38;5;129;01min\u001B[39;00m typecodes[\u001B[38;5;124m'\u001B[39m\u001B[38;5;124mAllFloat\u001B[39m\u001B[38;5;124m'\u001B[39m] \u001B[38;5;129;01mand\u001B[39;00m \u001B[38;5;129;01mnot\u001B[39;00m np\u001B[38;5;241m.\u001B[39misfinite(a)\u001B[38;5;241m.\u001B[39mall():\n\u001B[1;32m--> 649\u001B[0m     \u001B[38;5;28;01mraise\u001B[39;00m \u001B[38;5;167;01mValueError\u001B[39;00m(\n\u001B[0;32m    650\u001B[0m         \u001B[38;5;124m\"\u001B[39m\u001B[38;5;124marray must not contain infs or NaNs\u001B[39m\u001B[38;5;124m\"\u001B[39m)\n\u001B[0;32m    651\u001B[0m \u001B[38;5;28;01mreturn\u001B[39;00m a\n",
      "\u001B[1;31mValueError\u001B[0m: array must not contain infs or NaNs"
     ]
    }
   ],
   "source": [
    "import pandas as pd\n",
    "\n",
    "from scipy import stats\n",
    "import statsmodels.api as sm\n",
    "from statsmodels.formula.api import ols\n",
    "from sklearn.preprocessing import MinMaxScaler\n",
    "\n",
    "\n",
    "df = pd.read_csv('./combined_data_throughput.csv')\n",
    "\n",
    "# Check initial data\n",
    "print(df)\n",
    "\n",
    "# Min-Max Scaling: Transform the data to a fixed range, typically [0, 1].\n",
    "scaler = MinMaxScaler()\n",
    "df['Requests'] = scaler.fit_transform(df[['Requests']])\n",
    "\n",
    "\n",
    "# Apply transformations\n",
    "df['Throughput_log'] = np.log(df['Throughput'] + 1)\n",
    "df['Throughput_sqrt'] = np.sqrt(df['Throughput'])\n",
    "df['Throughput_BoxCox'], _ = stats.boxcox(df['Throughput'] + 1)\n",
    "\n",
    "\n",
    "shapiro_sqrt = stats.shapiro(df['Throughput_sqrt'])\n",
    "print(\"Shapiro-Wilk test (sqrt-transformed data):\", shapiro_sqrt)\n",
    "\n",
    "# Shapiro-Wilk test on log-transformed data\n",
    "shapiro_log = stats.shapiro(df['Throughput_log'])\n",
    "print(\"Shapiro-Wilk test (log-transformed data):\", shapiro_log)\n",
    "\n",
    "\n",
    "# Shapiro-Wilk test on boxcox-transformed data\n",
    "shapiro_boxcox = stats.shapiro(df['Throughput_BoxCox'])\n",
    "print(\"Shapiro-Wilk test (log-transformed data):\", shapiro_boxcox)\n",
    "\n",
    "# Check for NaN and infinite values\n",
    "print(df.isnull().sum())  # Check for NaN values\n",
    "print((df == np.inf).sum())  # Check for infinite values\n",
    "\n",
    "# Remove or handle NaN and infinite values\n",
    "df = df.replace([np.inf, -np.inf], np.nan)  # Replace infinities with NaN\n",
    "df = df.dropna()  # Drop rows with NaN values\n",
    "\n",
    "# Verify the data is now clean\n",
    "print(df.describe())\n",
    "print(df)\n",
    "\n",
    "\n",
    "# Siapkan model ANOVA dua arah dengan data yang telah ditransformasi\n",
    "model = ols('Throughput_BoxCox ~ C(Broker) + C(Requests) + C(Broker):C(Requests)', data=df).fit()\n",
    "\n",
    "# Hitung tabel ANOVA\n",
    "anova_table = sm.stats.anova_lm(model, typ=2)\n",
    "\n"
   ],
   "metadata": {
    "collapsed": false,
    "ExecuteTime": {
     "end_time": "2024-08-07T03:20:19.699109300Z",
     "start_time": "2024-08-07T03:20:19.602010200Z"
    }
   },
   "id": "44f30216b6ca20fd",
   "execution_count": 107
  },
  {
   "cell_type": "code",
   "outputs": [
    {
     "name": "stdout",
     "output_type": "stream",
     "text": [
      "    Requests Broker  Throughput\n",
      "0          3  Kafka      113.38\n",
      "1          6  Kafka      123.66\n",
      "2         30  Kafka      125.62\n",
      "3         60  Kafka      126.88\n",
      "4        300  Kafka      132.30\n",
      "5        600  Kafka      129.73\n",
      "6       3000  Kafka      137.92\n",
      "7       6000  Kafka      141.38\n",
      "8          3   NATS       65.10\n",
      "9          6   NATS      114.69\n",
      "10        30   NATS      116.78\n",
      "11        60   NATS      110.55\n",
      "12       300   NATS      133.46\n",
      "13       600   NATS      128.69\n",
      "14      3000   NATS      133.85\n",
      "15      6000   NATS      141.64\n",
      "    Requests Broker  Throughput\n",
      "0   0.000000  Kafka      113.38\n",
      "1   0.000500  Kafka      123.66\n",
      "2   0.004502  Kafka      125.62\n",
      "3   0.009505  Kafka      126.88\n",
      "4   0.049525  Kafka      132.30\n",
      "5   0.099550  Kafka      129.73\n",
      "6   0.499750  Kafka      137.92\n",
      "7   1.000000  Kafka      141.38\n",
      "8   0.000000   NATS       65.10\n",
      "9   0.000500   NATS      114.69\n",
      "10  0.004502   NATS      116.78\n",
      "11  0.009505   NATS      110.55\n",
      "12  0.049525   NATS      133.46\n",
      "13  0.099550   NATS      128.69\n",
      "14  0.499750   NATS      133.85\n",
      "15  1.000000   NATS      141.64\n",
      "    Requests Broker  Throughput  Throughput_BoxCox\n",
      "0   0.000000  Kafka      113.38       2.882432e+09\n",
      "1   0.000500  Kafka      123.66       4.406781e+09\n",
      "2   0.004502  Kafka      125.62       4.759268e+09\n",
      "3   0.009505  Kafka      126.88       4.997485e+09\n",
      "4   0.049525  Kafka      132.30       6.132992e+09\n",
      "5   0.099550  Kafka      129.73       5.571455e+09\n",
      "6   0.499750  Kafka      137.92       7.518567e+09\n",
      "7   1.000000  Kafka      141.38       8.488580e+09\n",
      "8   0.000000   NATS       65.10       1.927921e+08\n",
      "9   0.000500   NATS      114.69       3.048975e+09\n",
      "10  0.004502   NATS      116.78       3.330487e+09\n",
      "11  0.009505   NATS      110.55       2.547363e+09\n",
      "12  0.049525   NATS      133.46       6.400785e+09\n",
      "13  0.099550   NATS      128.69       5.356226e+09\n",
      "14  0.499750   NATS      133.85       6.492883e+09\n",
      "15  1.000000   NATS      141.64       8.565314e+09\n"
     ]
    },
    {
     "name": "stderr",
     "output_type": "stream",
     "text": [
      "D:\\..SKRIPSI\\CALCULATION\\e2e-latency\\.venv\\Lib\\site-packages\\statsmodels\\regression\\linear_model.py:1718: RuntimeWarning: divide by zero encountered in scalar divide\n",
      "  return np.dot(wresid, wresid) / self.df_resid\n"
     ]
    },
    {
     "ename": "ValueError",
     "evalue": "array must not contain infs or NaNs",
     "output_type": "error",
     "traceback": [
      "\u001B[1;31m---------------------------------------------------------------------------\u001B[0m",
      "\u001B[1;31mValueError\u001B[0m                                Traceback (most recent call last)",
      "Cell \u001B[1;32mIn[103], line 26\u001B[0m\n\u001B[0;32m     23\u001B[0m \u001B[38;5;66;03m# Siapkan model ANOVA dua arah dengan data yang telah ditransformasi\u001B[39;00m\n\u001B[0;32m     24\u001B[0m model \u001B[38;5;241m=\u001B[39m ols(\u001B[38;5;124m'\u001B[39m\u001B[38;5;124mThroughput_BoxCox ~ C(Broker) + C(Requests) + C(Broker):C(Requests)\u001B[39m\u001B[38;5;124m'\u001B[39m, data\u001B[38;5;241m=\u001B[39mdf)\u001B[38;5;241m.\u001B[39mfit()\n\u001B[1;32m---> 26\u001B[0m anova_table \u001B[38;5;241m=\u001B[39m \u001B[43msm\u001B[49m\u001B[38;5;241;43m.\u001B[39;49m\u001B[43mstats\u001B[49m\u001B[38;5;241;43m.\u001B[39;49m\u001B[43manova_lm\u001B[49m\u001B[43m(\u001B[49m\u001B[43mmodel\u001B[49m\u001B[43m,\u001B[49m\u001B[43m \u001B[49m\u001B[43mtyp\u001B[49m\u001B[38;5;241;43m=\u001B[39;49m\u001B[38;5;241;43m2\u001B[39;49m\u001B[43m)\u001B[49m\n\u001B[0;32m     27\u001B[0m \u001B[38;5;28mprint\u001B[39m(anova_table)\n",
      "File \u001B[1;32mD:\\..SKRIPSI\\CALCULATION\\e2e-latency\\.venv\\Lib\\site-packages\\statsmodels\\stats\\anova.py:353\u001B[0m, in \u001B[0;36manova_lm\u001B[1;34m(*args, **kwargs)\u001B[0m\n\u001B[0;32m    351\u001B[0m \u001B[38;5;28;01mif\u001B[39;00m \u001B[38;5;28mlen\u001B[39m(args) \u001B[38;5;241m==\u001B[39m \u001B[38;5;241m1\u001B[39m:\n\u001B[0;32m    352\u001B[0m     model \u001B[38;5;241m=\u001B[39m args[\u001B[38;5;241m0\u001B[39m]\n\u001B[1;32m--> 353\u001B[0m     \u001B[38;5;28;01mreturn\u001B[39;00m \u001B[43manova_single\u001B[49m\u001B[43m(\u001B[49m\u001B[43mmodel\u001B[49m\u001B[43m,\u001B[49m\u001B[43m \u001B[49m\u001B[38;5;241;43m*\u001B[39;49m\u001B[38;5;241;43m*\u001B[39;49m\u001B[43mkwargs\u001B[49m\u001B[43m)\u001B[49m\n\u001B[0;32m    355\u001B[0m \u001B[38;5;28;01mif\u001B[39;00m typ \u001B[38;5;129;01mnot\u001B[39;00m \u001B[38;5;129;01min\u001B[39;00m [\u001B[38;5;241m1\u001B[39m, \u001B[38;5;124m\"\u001B[39m\u001B[38;5;124mI\u001B[39m\u001B[38;5;124m\"\u001B[39m]:\n\u001B[0;32m    356\u001B[0m     \u001B[38;5;28;01mraise\u001B[39;00m \u001B[38;5;167;01mValueError\u001B[39;00m(\u001B[38;5;124m\"\u001B[39m\u001B[38;5;124mMultiple models only supported for type I. \u001B[39m\u001B[38;5;124m\"\u001B[39m\n\u001B[0;32m    357\u001B[0m                      \u001B[38;5;124m\"\u001B[39m\u001B[38;5;124mGot type \u001B[39m\u001B[38;5;132;01m%s\u001B[39;00m\u001B[38;5;124m\"\u001B[39m \u001B[38;5;241m%\u001B[39m \u001B[38;5;28mstr\u001B[39m(typ))\n",
      "File \u001B[1;32mD:\\..SKRIPSI\\CALCULATION\\e2e-latency\\.venv\\Lib\\site-packages\\statsmodels\\stats\\anova.py:84\u001B[0m, in \u001B[0;36manova_single\u001B[1;34m(model, **kwargs)\u001B[0m\n\u001B[0;32m     81\u001B[0m     \u001B[38;5;28;01mreturn\u001B[39;00m anova1_lm_single(model, endog, exog, nobs, design_info, table,\n\u001B[0;32m     82\u001B[0m                             n_rows, test, pr_test, robust)\n\u001B[0;32m     83\u001B[0m \u001B[38;5;28;01melif\u001B[39;00m typ \u001B[38;5;129;01min\u001B[39;00m [\u001B[38;5;241m2\u001B[39m, \u001B[38;5;124m\"\u001B[39m\u001B[38;5;124mII\u001B[39m\u001B[38;5;124m\"\u001B[39m]:\n\u001B[1;32m---> 84\u001B[0m     \u001B[38;5;28;01mreturn\u001B[39;00m \u001B[43manova2_lm_single\u001B[49m\u001B[43m(\u001B[49m\u001B[43mmodel\u001B[49m\u001B[43m,\u001B[49m\u001B[43m \u001B[49m\u001B[43mdesign_info\u001B[49m\u001B[43m,\u001B[49m\u001B[43m \u001B[49m\u001B[43mn_rows\u001B[49m\u001B[43m,\u001B[49m\u001B[43m \u001B[49m\u001B[43mtest\u001B[49m\u001B[43m,\u001B[49m\u001B[43m \u001B[49m\u001B[43mpr_test\u001B[49m\u001B[43m,\u001B[49m\n\u001B[0;32m     85\u001B[0m \u001B[43m                            \u001B[49m\u001B[43mrobust\u001B[49m\u001B[43m)\u001B[49m\n\u001B[0;32m     86\u001B[0m \u001B[38;5;28;01melif\u001B[39;00m typ \u001B[38;5;129;01min\u001B[39;00m [\u001B[38;5;241m3\u001B[39m, \u001B[38;5;124m\"\u001B[39m\u001B[38;5;124mIII\u001B[39m\u001B[38;5;124m\"\u001B[39m]:\n\u001B[0;32m     87\u001B[0m     \u001B[38;5;28;01mreturn\u001B[39;00m anova3_lm_single(model, design_info, n_rows, test, pr_test,\n\u001B[0;32m     88\u001B[0m                             robust)\n",
      "File \u001B[1;32mD:\\..SKRIPSI\\CALCULATION\\e2e-latency\\.venv\\Lib\\site-packages\\statsmodels\\stats\\anova.py:207\u001B[0m, in \u001B[0;36manova2_lm_single\u001B[1;34m(model, design_info, n_rows, test, pr_test, robust)\u001B[0m\n\u001B[0;32m    205\u001B[0m LVL \u001B[38;5;241m=\u001B[39m np\u001B[38;5;241m.\u001B[39mdot(np\u001B[38;5;241m.\u001B[39mdot(L1,robust_cov),L2\u001B[38;5;241m.\u001B[39mT)\n\u001B[0;32m    206\u001B[0m \u001B[38;5;28;01mfrom\u001B[39;00m \u001B[38;5;21;01mscipy\u001B[39;00m \u001B[38;5;28;01mimport\u001B[39;00m linalg\n\u001B[1;32m--> 207\u001B[0m orth_compl,_ \u001B[38;5;241m=\u001B[39m \u001B[43mlinalg\u001B[49m\u001B[38;5;241;43m.\u001B[39;49m\u001B[43mqr\u001B[49m\u001B[43m(\u001B[49m\u001B[43mLVL\u001B[49m\u001B[43m)\u001B[49m\n\u001B[0;32m    208\u001B[0m r \u001B[38;5;241m=\u001B[39m L1\u001B[38;5;241m.\u001B[39mshape[\u001B[38;5;241m0\u001B[39m] \u001B[38;5;241m-\u001B[39m L2\u001B[38;5;241m.\u001B[39mshape[\u001B[38;5;241m0\u001B[39m]\n\u001B[0;32m    209\u001B[0m \u001B[38;5;66;03m# L1|2\u001B[39;00m\n\u001B[0;32m    210\u001B[0m \u001B[38;5;66;03m# use the non-unique orthogonal completion since L12 is rank r\u001B[39;00m\n",
      "File \u001B[1;32mD:\\..SKRIPSI\\CALCULATION\\e2e-latency\\.venv\\Lib\\site-packages\\scipy\\linalg\\_decomp_qr.py:129\u001B[0m, in \u001B[0;36mqr\u001B[1;34m(a, overwrite_a, lwork, mode, pivoting, check_finite)\u001B[0m\n\u001B[0;32m    125\u001B[0m     \u001B[38;5;28;01mraise\u001B[39;00m \u001B[38;5;167;01mValueError\u001B[39;00m(\u001B[38;5;124m\"\u001B[39m\u001B[38;5;124mMode argument should be one of [\u001B[39m\u001B[38;5;124m'\u001B[39m\u001B[38;5;124mfull\u001B[39m\u001B[38;5;124m'\u001B[39m\u001B[38;5;124m, \u001B[39m\u001B[38;5;124m'\u001B[39m\u001B[38;5;124mr\u001B[39m\u001B[38;5;124m'\u001B[39m\u001B[38;5;124m, \u001B[39m\u001B[38;5;124m\"\u001B[39m\n\u001B[0;32m    126\u001B[0m                      \u001B[38;5;124m\"\u001B[39m\u001B[38;5;124m'\u001B[39m\u001B[38;5;124meconomic\u001B[39m\u001B[38;5;124m'\u001B[39m\u001B[38;5;124m, \u001B[39m\u001B[38;5;124m'\u001B[39m\u001B[38;5;124mraw\u001B[39m\u001B[38;5;124m'\u001B[39m\u001B[38;5;124m]\u001B[39m\u001B[38;5;124m\"\u001B[39m)\n\u001B[0;32m    128\u001B[0m \u001B[38;5;28;01mif\u001B[39;00m check_finite:\n\u001B[1;32m--> 129\u001B[0m     a1 \u001B[38;5;241m=\u001B[39m \u001B[43mnp\u001B[49m\u001B[38;5;241;43m.\u001B[39;49m\u001B[43masarray_chkfinite\u001B[49m\u001B[43m(\u001B[49m\u001B[43ma\u001B[49m\u001B[43m)\u001B[49m\n\u001B[0;32m    130\u001B[0m \u001B[38;5;28;01melse\u001B[39;00m:\n\u001B[0;32m    131\u001B[0m     a1 \u001B[38;5;241m=\u001B[39m np\u001B[38;5;241m.\u001B[39masarray(a)\n",
      "File \u001B[1;32mD:\\..SKRIPSI\\CALCULATION\\e2e-latency\\.venv\\Lib\\site-packages\\numpy\\lib\\_function_base_impl.py:649\u001B[0m, in \u001B[0;36masarray_chkfinite\u001B[1;34m(a, dtype, order)\u001B[0m\n\u001B[0;32m    647\u001B[0m a \u001B[38;5;241m=\u001B[39m asarray(a, dtype\u001B[38;5;241m=\u001B[39mdtype, order\u001B[38;5;241m=\u001B[39morder)\n\u001B[0;32m    648\u001B[0m \u001B[38;5;28;01mif\u001B[39;00m a\u001B[38;5;241m.\u001B[39mdtype\u001B[38;5;241m.\u001B[39mchar \u001B[38;5;129;01min\u001B[39;00m typecodes[\u001B[38;5;124m'\u001B[39m\u001B[38;5;124mAllFloat\u001B[39m\u001B[38;5;124m'\u001B[39m] \u001B[38;5;129;01mand\u001B[39;00m \u001B[38;5;129;01mnot\u001B[39;00m np\u001B[38;5;241m.\u001B[39misfinite(a)\u001B[38;5;241m.\u001B[39mall():\n\u001B[1;32m--> 649\u001B[0m     \u001B[38;5;28;01mraise\u001B[39;00m \u001B[38;5;167;01mValueError\u001B[39;00m(\n\u001B[0;32m    650\u001B[0m         \u001B[38;5;124m\"\u001B[39m\u001B[38;5;124marray must not contain infs or NaNs\u001B[39m\u001B[38;5;124m\"\u001B[39m)\n\u001B[0;32m    651\u001B[0m \u001B[38;5;28;01mreturn\u001B[39;00m a\n",
      "\u001B[1;31mValueError\u001B[0m: array must not contain infs or NaNs"
     ]
    }
   ],
   "source": [
    "import pandas as pd\n",
    "import numpy as np\n",
    "from scipy import stats\n",
    "import statsmodels.api as sm\n",
    "from statsmodels.formula.api import ols\n",
    "from sklearn.preprocessing import MinMaxScaler\n",
    "\n",
    "\n",
    "df = pd.read_csv('./combined_data_throughput.csv')\n",
    "\n",
    "# Check initial data\n",
    "print(df)\n",
    "\n",
    "# Min-Max Scaling: Transform the data to a fixed range, typically [0, 1].\n",
    "scaler = MinMaxScaler()\n",
    "df['Requests'] = scaler.fit_transform(df[['Requests']])\n",
    "print(df)\n",
    "\n",
    "df['Throughput_BoxCox'], _ = stats.boxcox(df['Throughput'] + 1)\n",
    "shapiro_boxcox = stats.shapiro(df['Throughput_BoxCox'])\n",
    "print(df)\n",
    "\n",
    "# Siapkan model ANOVA dua arah dengan data yang telah ditransformasi\n",
    "model = ols('Throughput_BoxCox ~ C(Broker) + C(Requests) + C(Broker):C(Requests)', data=df).fit()\n",
    "\n",
    "anova_table = sm.stats.anova_lm(model, typ=2)\n",
    "print(anova_table)\n"
   ],
   "metadata": {
    "collapsed": false,
    "ExecuteTime": {
     "end_time": "2024-08-07T03:07:25.134943600Z",
     "start_time": "2024-08-07T03:07:25.002909100Z"
    }
   },
   "id": "1dba4728d1890c66",
   "execution_count": 103
  }
 ],
 "metadata": {
  "kernelspec": {
   "display_name": "Python 3",
   "language": "python",
   "name": "python3"
  },
  "language_info": {
   "codemirror_mode": {
    "name": "ipython",
    "version": 2
   },
   "file_extension": ".py",
   "mimetype": "text/x-python",
   "name": "python",
   "nbconvert_exporter": "python",
   "pygments_lexer": "ipython2",
   "version": "2.7.6"
  }
 },
 "nbformat": 4,
 "nbformat_minor": 5
}
